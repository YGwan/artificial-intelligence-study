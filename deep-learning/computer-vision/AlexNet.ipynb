{
  "nbformat": 4,
  "nbformat_minor": 0,
  "metadata": {
    "colab": {
      "provenance": [],
      "collapsed_sections": []
    },
    "kernelspec": {
      "name": "python3",
      "display_name": "Python 3"
    },
    "language_info": {
      "name": "python"
    },
    "accelerator": "GPU",
    "widgets": {
      "application/vnd.jupyter.widget-state+json": {
        "013cb7ec60dd48ffa3707f6ed5a53ac9": {
          "model_module": "@jupyter-widgets/controls",
          "model_name": "HBoxModel",
          "model_module_version": "1.5.0",
          "state": {
            "_dom_classes": [],
            "_model_module": "@jupyter-widgets/controls",
            "_model_module_version": "1.5.0",
            "_model_name": "HBoxModel",
            "_view_count": null,
            "_view_module": "@jupyter-widgets/controls",
            "_view_module_version": "1.5.0",
            "_view_name": "HBoxView",
            "box_style": "",
            "children": [
              "IPY_MODEL_d3145c1d33e84c3f8b100d391847a935",
              "IPY_MODEL_4a63f57822f04fbbbc634bdeb740d552",
              "IPY_MODEL_a8be3bb4e93a448a88455869b7f60a7f"
            ],
            "layout": "IPY_MODEL_962b27163c654cc6ae78ef32db86e1cb"
          }
        },
        "d3145c1d33e84c3f8b100d391847a935": {
          "model_module": "@jupyter-widgets/controls",
          "model_name": "HTMLModel",
          "model_module_version": "1.5.0",
          "state": {
            "_dom_classes": [],
            "_model_module": "@jupyter-widgets/controls",
            "_model_module_version": "1.5.0",
            "_model_name": "HTMLModel",
            "_view_count": null,
            "_view_module": "@jupyter-widgets/controls",
            "_view_module_version": "1.5.0",
            "_view_name": "HTMLView",
            "description": "",
            "description_tooltip": null,
            "layout": "IPY_MODEL_ce10ae52c9964f8bae84aa0310bbbce3",
            "placeholder": "​",
            "style": "IPY_MODEL_3f9145238ff3403c8cbb09aca6bdd0ad",
            "value": "100%"
          }
        },
        "4a63f57822f04fbbbc634bdeb740d552": {
          "model_module": "@jupyter-widgets/controls",
          "model_name": "FloatProgressModel",
          "model_module_version": "1.5.0",
          "state": {
            "_dom_classes": [],
            "_model_module": "@jupyter-widgets/controls",
            "_model_module_version": "1.5.0",
            "_model_name": "FloatProgressModel",
            "_view_count": null,
            "_view_module": "@jupyter-widgets/controls",
            "_view_module_version": "1.5.0",
            "_view_name": "ProgressView",
            "bar_style": "success",
            "description": "",
            "description_tooltip": null,
            "layout": "IPY_MODEL_6a2460c511dd44ea84e66af74048681a",
            "max": 26421880,
            "min": 0,
            "orientation": "horizontal",
            "style": "IPY_MODEL_e3e73ac3d4ef462e9d8c2e97f064d3b3",
            "value": 26421880
          }
        },
        "a8be3bb4e93a448a88455869b7f60a7f": {
          "model_module": "@jupyter-widgets/controls",
          "model_name": "HTMLModel",
          "model_module_version": "1.5.0",
          "state": {
            "_dom_classes": [],
            "_model_module": "@jupyter-widgets/controls",
            "_model_module_version": "1.5.0",
            "_model_name": "HTMLModel",
            "_view_count": null,
            "_view_module": "@jupyter-widgets/controls",
            "_view_module_version": "1.5.0",
            "_view_name": "HTMLView",
            "description": "",
            "description_tooltip": null,
            "layout": "IPY_MODEL_9605fc9cb8cb450280c8a78c5fb8f1e3",
            "placeholder": "​",
            "style": "IPY_MODEL_3ea20d22876f4adda8049b7e2d4215a6",
            "value": " 26421880/26421880 [00:00&lt;00:00, 126583019.57it/s]"
          }
        },
        "962b27163c654cc6ae78ef32db86e1cb": {
          "model_module": "@jupyter-widgets/base",
          "model_name": "LayoutModel",
          "model_module_version": "1.2.0",
          "state": {
            "_model_module": "@jupyter-widgets/base",
            "_model_module_version": "1.2.0",
            "_model_name": "LayoutModel",
            "_view_count": null,
            "_view_module": "@jupyter-widgets/base",
            "_view_module_version": "1.2.0",
            "_view_name": "LayoutView",
            "align_content": null,
            "align_items": null,
            "align_self": null,
            "border": null,
            "bottom": null,
            "display": null,
            "flex": null,
            "flex_flow": null,
            "grid_area": null,
            "grid_auto_columns": null,
            "grid_auto_flow": null,
            "grid_auto_rows": null,
            "grid_column": null,
            "grid_gap": null,
            "grid_row": null,
            "grid_template_areas": null,
            "grid_template_columns": null,
            "grid_template_rows": null,
            "height": null,
            "justify_content": null,
            "justify_items": null,
            "left": null,
            "margin": null,
            "max_height": null,
            "max_width": null,
            "min_height": null,
            "min_width": null,
            "object_fit": null,
            "object_position": null,
            "order": null,
            "overflow": null,
            "overflow_x": null,
            "overflow_y": null,
            "padding": null,
            "right": null,
            "top": null,
            "visibility": null,
            "width": null
          }
        },
        "ce10ae52c9964f8bae84aa0310bbbce3": {
          "model_module": "@jupyter-widgets/base",
          "model_name": "LayoutModel",
          "model_module_version": "1.2.0",
          "state": {
            "_model_module": "@jupyter-widgets/base",
            "_model_module_version": "1.2.0",
            "_model_name": "LayoutModel",
            "_view_count": null,
            "_view_module": "@jupyter-widgets/base",
            "_view_module_version": "1.2.0",
            "_view_name": "LayoutView",
            "align_content": null,
            "align_items": null,
            "align_self": null,
            "border": null,
            "bottom": null,
            "display": null,
            "flex": null,
            "flex_flow": null,
            "grid_area": null,
            "grid_auto_columns": null,
            "grid_auto_flow": null,
            "grid_auto_rows": null,
            "grid_column": null,
            "grid_gap": null,
            "grid_row": null,
            "grid_template_areas": null,
            "grid_template_columns": null,
            "grid_template_rows": null,
            "height": null,
            "justify_content": null,
            "justify_items": null,
            "left": null,
            "margin": null,
            "max_height": null,
            "max_width": null,
            "min_height": null,
            "min_width": null,
            "object_fit": null,
            "object_position": null,
            "order": null,
            "overflow": null,
            "overflow_x": null,
            "overflow_y": null,
            "padding": null,
            "right": null,
            "top": null,
            "visibility": null,
            "width": null
          }
        },
        "3f9145238ff3403c8cbb09aca6bdd0ad": {
          "model_module": "@jupyter-widgets/controls",
          "model_name": "DescriptionStyleModel",
          "model_module_version": "1.5.0",
          "state": {
            "_model_module": "@jupyter-widgets/controls",
            "_model_module_version": "1.5.0",
            "_model_name": "DescriptionStyleModel",
            "_view_count": null,
            "_view_module": "@jupyter-widgets/base",
            "_view_module_version": "1.2.0",
            "_view_name": "StyleView",
            "description_width": ""
          }
        },
        "6a2460c511dd44ea84e66af74048681a": {
          "model_module": "@jupyter-widgets/base",
          "model_name": "LayoutModel",
          "model_module_version": "1.2.0",
          "state": {
            "_model_module": "@jupyter-widgets/base",
            "_model_module_version": "1.2.0",
            "_model_name": "LayoutModel",
            "_view_count": null,
            "_view_module": "@jupyter-widgets/base",
            "_view_module_version": "1.2.0",
            "_view_name": "LayoutView",
            "align_content": null,
            "align_items": null,
            "align_self": null,
            "border": null,
            "bottom": null,
            "display": null,
            "flex": null,
            "flex_flow": null,
            "grid_area": null,
            "grid_auto_columns": null,
            "grid_auto_flow": null,
            "grid_auto_rows": null,
            "grid_column": null,
            "grid_gap": null,
            "grid_row": null,
            "grid_template_areas": null,
            "grid_template_columns": null,
            "grid_template_rows": null,
            "height": null,
            "justify_content": null,
            "justify_items": null,
            "left": null,
            "margin": null,
            "max_height": null,
            "max_width": null,
            "min_height": null,
            "min_width": null,
            "object_fit": null,
            "object_position": null,
            "order": null,
            "overflow": null,
            "overflow_x": null,
            "overflow_y": null,
            "padding": null,
            "right": null,
            "top": null,
            "visibility": null,
            "width": null
          }
        },
        "e3e73ac3d4ef462e9d8c2e97f064d3b3": {
          "model_module": "@jupyter-widgets/controls",
          "model_name": "ProgressStyleModel",
          "model_module_version": "1.5.0",
          "state": {
            "_model_module": "@jupyter-widgets/controls",
            "_model_module_version": "1.5.0",
            "_model_name": "ProgressStyleModel",
            "_view_count": null,
            "_view_module": "@jupyter-widgets/base",
            "_view_module_version": "1.2.0",
            "_view_name": "StyleView",
            "bar_color": null,
            "description_width": ""
          }
        },
        "9605fc9cb8cb450280c8a78c5fb8f1e3": {
          "model_module": "@jupyter-widgets/base",
          "model_name": "LayoutModel",
          "model_module_version": "1.2.0",
          "state": {
            "_model_module": "@jupyter-widgets/base",
            "_model_module_version": "1.2.0",
            "_model_name": "LayoutModel",
            "_view_count": null,
            "_view_module": "@jupyter-widgets/base",
            "_view_module_version": "1.2.0",
            "_view_name": "LayoutView",
            "align_content": null,
            "align_items": null,
            "align_self": null,
            "border": null,
            "bottom": null,
            "display": null,
            "flex": null,
            "flex_flow": null,
            "grid_area": null,
            "grid_auto_columns": null,
            "grid_auto_flow": null,
            "grid_auto_rows": null,
            "grid_column": null,
            "grid_gap": null,
            "grid_row": null,
            "grid_template_areas": null,
            "grid_template_columns": null,
            "grid_template_rows": null,
            "height": null,
            "justify_content": null,
            "justify_items": null,
            "left": null,
            "margin": null,
            "max_height": null,
            "max_width": null,
            "min_height": null,
            "min_width": null,
            "object_fit": null,
            "object_position": null,
            "order": null,
            "overflow": null,
            "overflow_x": null,
            "overflow_y": null,
            "padding": null,
            "right": null,
            "top": null,
            "visibility": null,
            "width": null
          }
        },
        "3ea20d22876f4adda8049b7e2d4215a6": {
          "model_module": "@jupyter-widgets/controls",
          "model_name": "DescriptionStyleModel",
          "model_module_version": "1.5.0",
          "state": {
            "_model_module": "@jupyter-widgets/controls",
            "_model_module_version": "1.5.0",
            "_model_name": "DescriptionStyleModel",
            "_view_count": null,
            "_view_module": "@jupyter-widgets/base",
            "_view_module_version": "1.2.0",
            "_view_name": "StyleView",
            "description_width": ""
          }
        },
        "00746fea86574f8887c2741796b40a69": {
          "model_module": "@jupyter-widgets/controls",
          "model_name": "HBoxModel",
          "model_module_version": "1.5.0",
          "state": {
            "_dom_classes": [],
            "_model_module": "@jupyter-widgets/controls",
            "_model_module_version": "1.5.0",
            "_model_name": "HBoxModel",
            "_view_count": null,
            "_view_module": "@jupyter-widgets/controls",
            "_view_module_version": "1.5.0",
            "_view_name": "HBoxView",
            "box_style": "",
            "children": [
              "IPY_MODEL_b6b4a75bfde14eb6a37dcf764e6dbe25",
              "IPY_MODEL_7e9e94e513df47699c2d3173cc9c91fe",
              "IPY_MODEL_f8ce697c48194cdc9161068373f0eda7"
            ],
            "layout": "IPY_MODEL_76968e3bc95d43dca24fb976780e83b2"
          }
        },
        "b6b4a75bfde14eb6a37dcf764e6dbe25": {
          "model_module": "@jupyter-widgets/controls",
          "model_name": "HTMLModel",
          "model_module_version": "1.5.0",
          "state": {
            "_dom_classes": [],
            "_model_module": "@jupyter-widgets/controls",
            "_model_module_version": "1.5.0",
            "_model_name": "HTMLModel",
            "_view_count": null,
            "_view_module": "@jupyter-widgets/controls",
            "_view_module_version": "1.5.0",
            "_view_name": "HTMLView",
            "description": "",
            "description_tooltip": null,
            "layout": "IPY_MODEL_e31ef5f361544db9b9436ffc4849af7b",
            "placeholder": "​",
            "style": "IPY_MODEL_16214ff661974948897d0dfac3a769e8",
            "value": "100%"
          }
        },
        "7e9e94e513df47699c2d3173cc9c91fe": {
          "model_module": "@jupyter-widgets/controls",
          "model_name": "FloatProgressModel",
          "model_module_version": "1.5.0",
          "state": {
            "_dom_classes": [],
            "_model_module": "@jupyter-widgets/controls",
            "_model_module_version": "1.5.0",
            "_model_name": "FloatProgressModel",
            "_view_count": null,
            "_view_module": "@jupyter-widgets/controls",
            "_view_module_version": "1.5.0",
            "_view_name": "ProgressView",
            "bar_style": "success",
            "description": "",
            "description_tooltip": null,
            "layout": "IPY_MODEL_b94135eef3a94876a584007f8b34065a",
            "max": 29515,
            "min": 0,
            "orientation": "horizontal",
            "style": "IPY_MODEL_f556c9ef499e467c8493ec8d0adad09f",
            "value": 29515
          }
        },
        "f8ce697c48194cdc9161068373f0eda7": {
          "model_module": "@jupyter-widgets/controls",
          "model_name": "HTMLModel",
          "model_module_version": "1.5.0",
          "state": {
            "_dom_classes": [],
            "_model_module": "@jupyter-widgets/controls",
            "_model_module_version": "1.5.0",
            "_model_name": "HTMLModel",
            "_view_count": null,
            "_view_module": "@jupyter-widgets/controls",
            "_view_module_version": "1.5.0",
            "_view_name": "HTMLView",
            "description": "",
            "description_tooltip": null,
            "layout": "IPY_MODEL_dbc57f5f040b4595aa55df0d6a755db6",
            "placeholder": "​",
            "style": "IPY_MODEL_f458886ef99746ffb6af63acee2b26ea",
            "value": " 29515/29515 [00:00&lt;00:00, 771581.70it/s]"
          }
        },
        "76968e3bc95d43dca24fb976780e83b2": {
          "model_module": "@jupyter-widgets/base",
          "model_name": "LayoutModel",
          "model_module_version": "1.2.0",
          "state": {
            "_model_module": "@jupyter-widgets/base",
            "_model_module_version": "1.2.0",
            "_model_name": "LayoutModel",
            "_view_count": null,
            "_view_module": "@jupyter-widgets/base",
            "_view_module_version": "1.2.0",
            "_view_name": "LayoutView",
            "align_content": null,
            "align_items": null,
            "align_self": null,
            "border": null,
            "bottom": null,
            "display": null,
            "flex": null,
            "flex_flow": null,
            "grid_area": null,
            "grid_auto_columns": null,
            "grid_auto_flow": null,
            "grid_auto_rows": null,
            "grid_column": null,
            "grid_gap": null,
            "grid_row": null,
            "grid_template_areas": null,
            "grid_template_columns": null,
            "grid_template_rows": null,
            "height": null,
            "justify_content": null,
            "justify_items": null,
            "left": null,
            "margin": null,
            "max_height": null,
            "max_width": null,
            "min_height": null,
            "min_width": null,
            "object_fit": null,
            "object_position": null,
            "order": null,
            "overflow": null,
            "overflow_x": null,
            "overflow_y": null,
            "padding": null,
            "right": null,
            "top": null,
            "visibility": null,
            "width": null
          }
        },
        "e31ef5f361544db9b9436ffc4849af7b": {
          "model_module": "@jupyter-widgets/base",
          "model_name": "LayoutModel",
          "model_module_version": "1.2.0",
          "state": {
            "_model_module": "@jupyter-widgets/base",
            "_model_module_version": "1.2.0",
            "_model_name": "LayoutModel",
            "_view_count": null,
            "_view_module": "@jupyter-widgets/base",
            "_view_module_version": "1.2.0",
            "_view_name": "LayoutView",
            "align_content": null,
            "align_items": null,
            "align_self": null,
            "border": null,
            "bottom": null,
            "display": null,
            "flex": null,
            "flex_flow": null,
            "grid_area": null,
            "grid_auto_columns": null,
            "grid_auto_flow": null,
            "grid_auto_rows": null,
            "grid_column": null,
            "grid_gap": null,
            "grid_row": null,
            "grid_template_areas": null,
            "grid_template_columns": null,
            "grid_template_rows": null,
            "height": null,
            "justify_content": null,
            "justify_items": null,
            "left": null,
            "margin": null,
            "max_height": null,
            "max_width": null,
            "min_height": null,
            "min_width": null,
            "object_fit": null,
            "object_position": null,
            "order": null,
            "overflow": null,
            "overflow_x": null,
            "overflow_y": null,
            "padding": null,
            "right": null,
            "top": null,
            "visibility": null,
            "width": null
          }
        },
        "16214ff661974948897d0dfac3a769e8": {
          "model_module": "@jupyter-widgets/controls",
          "model_name": "DescriptionStyleModel",
          "model_module_version": "1.5.0",
          "state": {
            "_model_module": "@jupyter-widgets/controls",
            "_model_module_version": "1.5.0",
            "_model_name": "DescriptionStyleModel",
            "_view_count": null,
            "_view_module": "@jupyter-widgets/base",
            "_view_module_version": "1.2.0",
            "_view_name": "StyleView",
            "description_width": ""
          }
        },
        "b94135eef3a94876a584007f8b34065a": {
          "model_module": "@jupyter-widgets/base",
          "model_name": "LayoutModel",
          "model_module_version": "1.2.0",
          "state": {
            "_model_module": "@jupyter-widgets/base",
            "_model_module_version": "1.2.0",
            "_model_name": "LayoutModel",
            "_view_count": null,
            "_view_module": "@jupyter-widgets/base",
            "_view_module_version": "1.2.0",
            "_view_name": "LayoutView",
            "align_content": null,
            "align_items": null,
            "align_self": null,
            "border": null,
            "bottom": null,
            "display": null,
            "flex": null,
            "flex_flow": null,
            "grid_area": null,
            "grid_auto_columns": null,
            "grid_auto_flow": null,
            "grid_auto_rows": null,
            "grid_column": null,
            "grid_gap": null,
            "grid_row": null,
            "grid_template_areas": null,
            "grid_template_columns": null,
            "grid_template_rows": null,
            "height": null,
            "justify_content": null,
            "justify_items": null,
            "left": null,
            "margin": null,
            "max_height": null,
            "max_width": null,
            "min_height": null,
            "min_width": null,
            "object_fit": null,
            "object_position": null,
            "order": null,
            "overflow": null,
            "overflow_x": null,
            "overflow_y": null,
            "padding": null,
            "right": null,
            "top": null,
            "visibility": null,
            "width": null
          }
        },
        "f556c9ef499e467c8493ec8d0adad09f": {
          "model_module": "@jupyter-widgets/controls",
          "model_name": "ProgressStyleModel",
          "model_module_version": "1.5.0",
          "state": {
            "_model_module": "@jupyter-widgets/controls",
            "_model_module_version": "1.5.0",
            "_model_name": "ProgressStyleModel",
            "_view_count": null,
            "_view_module": "@jupyter-widgets/base",
            "_view_module_version": "1.2.0",
            "_view_name": "StyleView",
            "bar_color": null,
            "description_width": ""
          }
        },
        "dbc57f5f040b4595aa55df0d6a755db6": {
          "model_module": "@jupyter-widgets/base",
          "model_name": "LayoutModel",
          "model_module_version": "1.2.0",
          "state": {
            "_model_module": "@jupyter-widgets/base",
            "_model_module_version": "1.2.0",
            "_model_name": "LayoutModel",
            "_view_count": null,
            "_view_module": "@jupyter-widgets/base",
            "_view_module_version": "1.2.0",
            "_view_name": "LayoutView",
            "align_content": null,
            "align_items": null,
            "align_self": null,
            "border": null,
            "bottom": null,
            "display": null,
            "flex": null,
            "flex_flow": null,
            "grid_area": null,
            "grid_auto_columns": null,
            "grid_auto_flow": null,
            "grid_auto_rows": null,
            "grid_column": null,
            "grid_gap": null,
            "grid_row": null,
            "grid_template_areas": null,
            "grid_template_columns": null,
            "grid_template_rows": null,
            "height": null,
            "justify_content": null,
            "justify_items": null,
            "left": null,
            "margin": null,
            "max_height": null,
            "max_width": null,
            "min_height": null,
            "min_width": null,
            "object_fit": null,
            "object_position": null,
            "order": null,
            "overflow": null,
            "overflow_x": null,
            "overflow_y": null,
            "padding": null,
            "right": null,
            "top": null,
            "visibility": null,
            "width": null
          }
        },
        "f458886ef99746ffb6af63acee2b26ea": {
          "model_module": "@jupyter-widgets/controls",
          "model_name": "DescriptionStyleModel",
          "model_module_version": "1.5.0",
          "state": {
            "_model_module": "@jupyter-widgets/controls",
            "_model_module_version": "1.5.0",
            "_model_name": "DescriptionStyleModel",
            "_view_count": null,
            "_view_module": "@jupyter-widgets/base",
            "_view_module_version": "1.2.0",
            "_view_name": "StyleView",
            "description_width": ""
          }
        },
        "3aea389dfaaf47d4b909405695642bc8": {
          "model_module": "@jupyter-widgets/controls",
          "model_name": "HBoxModel",
          "model_module_version": "1.5.0",
          "state": {
            "_dom_classes": [],
            "_model_module": "@jupyter-widgets/controls",
            "_model_module_version": "1.5.0",
            "_model_name": "HBoxModel",
            "_view_count": null,
            "_view_module": "@jupyter-widgets/controls",
            "_view_module_version": "1.5.0",
            "_view_name": "HBoxView",
            "box_style": "",
            "children": [
              "IPY_MODEL_b533d9255db845b093205e7b099ea5d9",
              "IPY_MODEL_6aad8ada824f42fd8dda9090c96461fc",
              "IPY_MODEL_6b78ef2f8ad248a6b29bde74796af032"
            ],
            "layout": "IPY_MODEL_fc301f1b365d462aa163e36b77ada2b6"
          }
        },
        "b533d9255db845b093205e7b099ea5d9": {
          "model_module": "@jupyter-widgets/controls",
          "model_name": "HTMLModel",
          "model_module_version": "1.5.0",
          "state": {
            "_dom_classes": [],
            "_model_module": "@jupyter-widgets/controls",
            "_model_module_version": "1.5.0",
            "_model_name": "HTMLModel",
            "_view_count": null,
            "_view_module": "@jupyter-widgets/controls",
            "_view_module_version": "1.5.0",
            "_view_name": "HTMLView",
            "description": "",
            "description_tooltip": null,
            "layout": "IPY_MODEL_e80f4fd663b84491bbf2d0aec6b06197",
            "placeholder": "​",
            "style": "IPY_MODEL_bb7a8c76868d47d4b1d8f46c1b042e3f",
            "value": "100%"
          }
        },
        "6aad8ada824f42fd8dda9090c96461fc": {
          "model_module": "@jupyter-widgets/controls",
          "model_name": "FloatProgressModel",
          "model_module_version": "1.5.0",
          "state": {
            "_dom_classes": [],
            "_model_module": "@jupyter-widgets/controls",
            "_model_module_version": "1.5.0",
            "_model_name": "FloatProgressModel",
            "_view_count": null,
            "_view_module": "@jupyter-widgets/controls",
            "_view_module_version": "1.5.0",
            "_view_name": "ProgressView",
            "bar_style": "success",
            "description": "",
            "description_tooltip": null,
            "layout": "IPY_MODEL_396e28dff4614acdb072bc09fa79a6b3",
            "max": 4422102,
            "min": 0,
            "orientation": "horizontal",
            "style": "IPY_MODEL_aa366be7781d4f37a0cedb8b2fbb6955",
            "value": 4422102
          }
        },
        "6b78ef2f8ad248a6b29bde74796af032": {
          "model_module": "@jupyter-widgets/controls",
          "model_name": "HTMLModel",
          "model_module_version": "1.5.0",
          "state": {
            "_dom_classes": [],
            "_model_module": "@jupyter-widgets/controls",
            "_model_module_version": "1.5.0",
            "_model_name": "HTMLModel",
            "_view_count": null,
            "_view_module": "@jupyter-widgets/controls",
            "_view_module_version": "1.5.0",
            "_view_name": "HTMLView",
            "description": "",
            "description_tooltip": null,
            "layout": "IPY_MODEL_683c215e6cbd4c50998cfa6399e060ec",
            "placeholder": "​",
            "style": "IPY_MODEL_1e96843d5d4247b5b7beefc22b2b0d09",
            "value": " 4422102/4422102 [00:00&lt;00:00, 16047344.24it/s]"
          }
        },
        "fc301f1b365d462aa163e36b77ada2b6": {
          "model_module": "@jupyter-widgets/base",
          "model_name": "LayoutModel",
          "model_module_version": "1.2.0",
          "state": {
            "_model_module": "@jupyter-widgets/base",
            "_model_module_version": "1.2.0",
            "_model_name": "LayoutModel",
            "_view_count": null,
            "_view_module": "@jupyter-widgets/base",
            "_view_module_version": "1.2.0",
            "_view_name": "LayoutView",
            "align_content": null,
            "align_items": null,
            "align_self": null,
            "border": null,
            "bottom": null,
            "display": null,
            "flex": null,
            "flex_flow": null,
            "grid_area": null,
            "grid_auto_columns": null,
            "grid_auto_flow": null,
            "grid_auto_rows": null,
            "grid_column": null,
            "grid_gap": null,
            "grid_row": null,
            "grid_template_areas": null,
            "grid_template_columns": null,
            "grid_template_rows": null,
            "height": null,
            "justify_content": null,
            "justify_items": null,
            "left": null,
            "margin": null,
            "max_height": null,
            "max_width": null,
            "min_height": null,
            "min_width": null,
            "object_fit": null,
            "object_position": null,
            "order": null,
            "overflow": null,
            "overflow_x": null,
            "overflow_y": null,
            "padding": null,
            "right": null,
            "top": null,
            "visibility": null,
            "width": null
          }
        },
        "e80f4fd663b84491bbf2d0aec6b06197": {
          "model_module": "@jupyter-widgets/base",
          "model_name": "LayoutModel",
          "model_module_version": "1.2.0",
          "state": {
            "_model_module": "@jupyter-widgets/base",
            "_model_module_version": "1.2.0",
            "_model_name": "LayoutModel",
            "_view_count": null,
            "_view_module": "@jupyter-widgets/base",
            "_view_module_version": "1.2.0",
            "_view_name": "LayoutView",
            "align_content": null,
            "align_items": null,
            "align_self": null,
            "border": null,
            "bottom": null,
            "display": null,
            "flex": null,
            "flex_flow": null,
            "grid_area": null,
            "grid_auto_columns": null,
            "grid_auto_flow": null,
            "grid_auto_rows": null,
            "grid_column": null,
            "grid_gap": null,
            "grid_row": null,
            "grid_template_areas": null,
            "grid_template_columns": null,
            "grid_template_rows": null,
            "height": null,
            "justify_content": null,
            "justify_items": null,
            "left": null,
            "margin": null,
            "max_height": null,
            "max_width": null,
            "min_height": null,
            "min_width": null,
            "object_fit": null,
            "object_position": null,
            "order": null,
            "overflow": null,
            "overflow_x": null,
            "overflow_y": null,
            "padding": null,
            "right": null,
            "top": null,
            "visibility": null,
            "width": null
          }
        },
        "bb7a8c76868d47d4b1d8f46c1b042e3f": {
          "model_module": "@jupyter-widgets/controls",
          "model_name": "DescriptionStyleModel",
          "model_module_version": "1.5.0",
          "state": {
            "_model_module": "@jupyter-widgets/controls",
            "_model_module_version": "1.5.0",
            "_model_name": "DescriptionStyleModel",
            "_view_count": null,
            "_view_module": "@jupyter-widgets/base",
            "_view_module_version": "1.2.0",
            "_view_name": "StyleView",
            "description_width": ""
          }
        },
        "396e28dff4614acdb072bc09fa79a6b3": {
          "model_module": "@jupyter-widgets/base",
          "model_name": "LayoutModel",
          "model_module_version": "1.2.0",
          "state": {
            "_model_module": "@jupyter-widgets/base",
            "_model_module_version": "1.2.0",
            "_model_name": "LayoutModel",
            "_view_count": null,
            "_view_module": "@jupyter-widgets/base",
            "_view_module_version": "1.2.0",
            "_view_name": "LayoutView",
            "align_content": null,
            "align_items": null,
            "align_self": null,
            "border": null,
            "bottom": null,
            "display": null,
            "flex": null,
            "flex_flow": null,
            "grid_area": null,
            "grid_auto_columns": null,
            "grid_auto_flow": null,
            "grid_auto_rows": null,
            "grid_column": null,
            "grid_gap": null,
            "grid_row": null,
            "grid_template_areas": null,
            "grid_template_columns": null,
            "grid_template_rows": null,
            "height": null,
            "justify_content": null,
            "justify_items": null,
            "left": null,
            "margin": null,
            "max_height": null,
            "max_width": null,
            "min_height": null,
            "min_width": null,
            "object_fit": null,
            "object_position": null,
            "order": null,
            "overflow": null,
            "overflow_x": null,
            "overflow_y": null,
            "padding": null,
            "right": null,
            "top": null,
            "visibility": null,
            "width": null
          }
        },
        "aa366be7781d4f37a0cedb8b2fbb6955": {
          "model_module": "@jupyter-widgets/controls",
          "model_name": "ProgressStyleModel",
          "model_module_version": "1.5.0",
          "state": {
            "_model_module": "@jupyter-widgets/controls",
            "_model_module_version": "1.5.0",
            "_model_name": "ProgressStyleModel",
            "_view_count": null,
            "_view_module": "@jupyter-widgets/base",
            "_view_module_version": "1.2.0",
            "_view_name": "StyleView",
            "bar_color": null,
            "description_width": ""
          }
        },
        "683c215e6cbd4c50998cfa6399e060ec": {
          "model_module": "@jupyter-widgets/base",
          "model_name": "LayoutModel",
          "model_module_version": "1.2.0",
          "state": {
            "_model_module": "@jupyter-widgets/base",
            "_model_module_version": "1.2.0",
            "_model_name": "LayoutModel",
            "_view_count": null,
            "_view_module": "@jupyter-widgets/base",
            "_view_module_version": "1.2.0",
            "_view_name": "LayoutView",
            "align_content": null,
            "align_items": null,
            "align_self": null,
            "border": null,
            "bottom": null,
            "display": null,
            "flex": null,
            "flex_flow": null,
            "grid_area": null,
            "grid_auto_columns": null,
            "grid_auto_flow": null,
            "grid_auto_rows": null,
            "grid_column": null,
            "grid_gap": null,
            "grid_row": null,
            "grid_template_areas": null,
            "grid_template_columns": null,
            "grid_template_rows": null,
            "height": null,
            "justify_content": null,
            "justify_items": null,
            "left": null,
            "margin": null,
            "max_height": null,
            "max_width": null,
            "min_height": null,
            "min_width": null,
            "object_fit": null,
            "object_position": null,
            "order": null,
            "overflow": null,
            "overflow_x": null,
            "overflow_y": null,
            "padding": null,
            "right": null,
            "top": null,
            "visibility": null,
            "width": null
          }
        },
        "1e96843d5d4247b5b7beefc22b2b0d09": {
          "model_module": "@jupyter-widgets/controls",
          "model_name": "DescriptionStyleModel",
          "model_module_version": "1.5.0",
          "state": {
            "_model_module": "@jupyter-widgets/controls",
            "_model_module_version": "1.5.0",
            "_model_name": "DescriptionStyleModel",
            "_view_count": null,
            "_view_module": "@jupyter-widgets/base",
            "_view_module_version": "1.2.0",
            "_view_name": "StyleView",
            "description_width": ""
          }
        },
        "1dcf1b6cca3341bebbf008f7df5fbeda": {
          "model_module": "@jupyter-widgets/controls",
          "model_name": "HBoxModel",
          "model_module_version": "1.5.0",
          "state": {
            "_dom_classes": [],
            "_model_module": "@jupyter-widgets/controls",
            "_model_module_version": "1.5.0",
            "_model_name": "HBoxModel",
            "_view_count": null,
            "_view_module": "@jupyter-widgets/controls",
            "_view_module_version": "1.5.0",
            "_view_name": "HBoxView",
            "box_style": "",
            "children": [
              "IPY_MODEL_934da1959cc74192b26cafd0047b2bb9",
              "IPY_MODEL_f1183908c1cb40509eee04a89fa5622a",
              "IPY_MODEL_f320e451cd4d482983b20ae37388dbb7"
            ],
            "layout": "IPY_MODEL_21e6980191ee44c3a0b814d08631bee6"
          }
        },
        "934da1959cc74192b26cafd0047b2bb9": {
          "model_module": "@jupyter-widgets/controls",
          "model_name": "HTMLModel",
          "model_module_version": "1.5.0",
          "state": {
            "_dom_classes": [],
            "_model_module": "@jupyter-widgets/controls",
            "_model_module_version": "1.5.0",
            "_model_name": "HTMLModel",
            "_view_count": null,
            "_view_module": "@jupyter-widgets/controls",
            "_view_module_version": "1.5.0",
            "_view_name": "HTMLView",
            "description": "",
            "description_tooltip": null,
            "layout": "IPY_MODEL_6a83ef22b73641f9979ef9ab3f624192",
            "placeholder": "​",
            "style": "IPY_MODEL_6e389b02732c443e8c7a739dc07eb8d6",
            "value": "100%"
          }
        },
        "f1183908c1cb40509eee04a89fa5622a": {
          "model_module": "@jupyter-widgets/controls",
          "model_name": "FloatProgressModel",
          "model_module_version": "1.5.0",
          "state": {
            "_dom_classes": [],
            "_model_module": "@jupyter-widgets/controls",
            "_model_module_version": "1.5.0",
            "_model_name": "FloatProgressModel",
            "_view_count": null,
            "_view_module": "@jupyter-widgets/controls",
            "_view_module_version": "1.5.0",
            "_view_name": "ProgressView",
            "bar_style": "success",
            "description": "",
            "description_tooltip": null,
            "layout": "IPY_MODEL_dad4b66b44c140d5830b23f149308bce",
            "max": 5148,
            "min": 0,
            "orientation": "horizontal",
            "style": "IPY_MODEL_c0a384a5a0f44d29af2304717c654260",
            "value": 5148
          }
        },
        "f320e451cd4d482983b20ae37388dbb7": {
          "model_module": "@jupyter-widgets/controls",
          "model_name": "HTMLModel",
          "model_module_version": "1.5.0",
          "state": {
            "_dom_classes": [],
            "_model_module": "@jupyter-widgets/controls",
            "_model_module_version": "1.5.0",
            "_model_name": "HTMLModel",
            "_view_count": null,
            "_view_module": "@jupyter-widgets/controls",
            "_view_module_version": "1.5.0",
            "_view_name": "HTMLView",
            "description": "",
            "description_tooltip": null,
            "layout": "IPY_MODEL_3d13dbae723449508906ede1e807cf3a",
            "placeholder": "​",
            "style": "IPY_MODEL_4e5d10e5d70d45d5bfa8c1e1d0224f6c",
            "value": " 5148/5148 [00:00&lt;00:00, 184825.82it/s]"
          }
        },
        "21e6980191ee44c3a0b814d08631bee6": {
          "model_module": "@jupyter-widgets/base",
          "model_name": "LayoutModel",
          "model_module_version": "1.2.0",
          "state": {
            "_model_module": "@jupyter-widgets/base",
            "_model_module_version": "1.2.0",
            "_model_name": "LayoutModel",
            "_view_count": null,
            "_view_module": "@jupyter-widgets/base",
            "_view_module_version": "1.2.0",
            "_view_name": "LayoutView",
            "align_content": null,
            "align_items": null,
            "align_self": null,
            "border": null,
            "bottom": null,
            "display": null,
            "flex": null,
            "flex_flow": null,
            "grid_area": null,
            "grid_auto_columns": null,
            "grid_auto_flow": null,
            "grid_auto_rows": null,
            "grid_column": null,
            "grid_gap": null,
            "grid_row": null,
            "grid_template_areas": null,
            "grid_template_columns": null,
            "grid_template_rows": null,
            "height": null,
            "justify_content": null,
            "justify_items": null,
            "left": null,
            "margin": null,
            "max_height": null,
            "max_width": null,
            "min_height": null,
            "min_width": null,
            "object_fit": null,
            "object_position": null,
            "order": null,
            "overflow": null,
            "overflow_x": null,
            "overflow_y": null,
            "padding": null,
            "right": null,
            "top": null,
            "visibility": null,
            "width": null
          }
        },
        "6a83ef22b73641f9979ef9ab3f624192": {
          "model_module": "@jupyter-widgets/base",
          "model_name": "LayoutModel",
          "model_module_version": "1.2.0",
          "state": {
            "_model_module": "@jupyter-widgets/base",
            "_model_module_version": "1.2.0",
            "_model_name": "LayoutModel",
            "_view_count": null,
            "_view_module": "@jupyter-widgets/base",
            "_view_module_version": "1.2.0",
            "_view_name": "LayoutView",
            "align_content": null,
            "align_items": null,
            "align_self": null,
            "border": null,
            "bottom": null,
            "display": null,
            "flex": null,
            "flex_flow": null,
            "grid_area": null,
            "grid_auto_columns": null,
            "grid_auto_flow": null,
            "grid_auto_rows": null,
            "grid_column": null,
            "grid_gap": null,
            "grid_row": null,
            "grid_template_areas": null,
            "grid_template_columns": null,
            "grid_template_rows": null,
            "height": null,
            "justify_content": null,
            "justify_items": null,
            "left": null,
            "margin": null,
            "max_height": null,
            "max_width": null,
            "min_height": null,
            "min_width": null,
            "object_fit": null,
            "object_position": null,
            "order": null,
            "overflow": null,
            "overflow_x": null,
            "overflow_y": null,
            "padding": null,
            "right": null,
            "top": null,
            "visibility": null,
            "width": null
          }
        },
        "6e389b02732c443e8c7a739dc07eb8d6": {
          "model_module": "@jupyter-widgets/controls",
          "model_name": "DescriptionStyleModel",
          "model_module_version": "1.5.0",
          "state": {
            "_model_module": "@jupyter-widgets/controls",
            "_model_module_version": "1.5.0",
            "_model_name": "DescriptionStyleModel",
            "_view_count": null,
            "_view_module": "@jupyter-widgets/base",
            "_view_module_version": "1.2.0",
            "_view_name": "StyleView",
            "description_width": ""
          }
        },
        "dad4b66b44c140d5830b23f149308bce": {
          "model_module": "@jupyter-widgets/base",
          "model_name": "LayoutModel",
          "model_module_version": "1.2.0",
          "state": {
            "_model_module": "@jupyter-widgets/base",
            "_model_module_version": "1.2.0",
            "_model_name": "LayoutModel",
            "_view_count": null,
            "_view_module": "@jupyter-widgets/base",
            "_view_module_version": "1.2.0",
            "_view_name": "LayoutView",
            "align_content": null,
            "align_items": null,
            "align_self": null,
            "border": null,
            "bottom": null,
            "display": null,
            "flex": null,
            "flex_flow": null,
            "grid_area": null,
            "grid_auto_columns": null,
            "grid_auto_flow": null,
            "grid_auto_rows": null,
            "grid_column": null,
            "grid_gap": null,
            "grid_row": null,
            "grid_template_areas": null,
            "grid_template_columns": null,
            "grid_template_rows": null,
            "height": null,
            "justify_content": null,
            "justify_items": null,
            "left": null,
            "margin": null,
            "max_height": null,
            "max_width": null,
            "min_height": null,
            "min_width": null,
            "object_fit": null,
            "object_position": null,
            "order": null,
            "overflow": null,
            "overflow_x": null,
            "overflow_y": null,
            "padding": null,
            "right": null,
            "top": null,
            "visibility": null,
            "width": null
          }
        },
        "c0a384a5a0f44d29af2304717c654260": {
          "model_module": "@jupyter-widgets/controls",
          "model_name": "ProgressStyleModel",
          "model_module_version": "1.5.0",
          "state": {
            "_model_module": "@jupyter-widgets/controls",
            "_model_module_version": "1.5.0",
            "_model_name": "ProgressStyleModel",
            "_view_count": null,
            "_view_module": "@jupyter-widgets/base",
            "_view_module_version": "1.2.0",
            "_view_name": "StyleView",
            "bar_color": null,
            "description_width": ""
          }
        },
        "3d13dbae723449508906ede1e807cf3a": {
          "model_module": "@jupyter-widgets/base",
          "model_name": "LayoutModel",
          "model_module_version": "1.2.0",
          "state": {
            "_model_module": "@jupyter-widgets/base",
            "_model_module_version": "1.2.0",
            "_model_name": "LayoutModel",
            "_view_count": null,
            "_view_module": "@jupyter-widgets/base",
            "_view_module_version": "1.2.0",
            "_view_name": "LayoutView",
            "align_content": null,
            "align_items": null,
            "align_self": null,
            "border": null,
            "bottom": null,
            "display": null,
            "flex": null,
            "flex_flow": null,
            "grid_area": null,
            "grid_auto_columns": null,
            "grid_auto_flow": null,
            "grid_auto_rows": null,
            "grid_column": null,
            "grid_gap": null,
            "grid_row": null,
            "grid_template_areas": null,
            "grid_template_columns": null,
            "grid_template_rows": null,
            "height": null,
            "justify_content": null,
            "justify_items": null,
            "left": null,
            "margin": null,
            "max_height": null,
            "max_width": null,
            "min_height": null,
            "min_width": null,
            "object_fit": null,
            "object_position": null,
            "order": null,
            "overflow": null,
            "overflow_x": null,
            "overflow_y": null,
            "padding": null,
            "right": null,
            "top": null,
            "visibility": null,
            "width": null
          }
        },
        "4e5d10e5d70d45d5bfa8c1e1d0224f6c": {
          "model_module": "@jupyter-widgets/controls",
          "model_name": "DescriptionStyleModel",
          "model_module_version": "1.5.0",
          "state": {
            "_model_module": "@jupyter-widgets/controls",
            "_model_module_version": "1.5.0",
            "_model_name": "DescriptionStyleModel",
            "_view_count": null,
            "_view_module": "@jupyter-widgets/base",
            "_view_module_version": "1.2.0",
            "_view_name": "StyleView",
            "description_width": ""
          }
        }
      }
    }
  },
  "cells": [
    {
      "cell_type": "markdown",
      "source": [
        "# AlexNet"
      ],
      "metadata": {
        "id": "fR93kKTCglHw"
      }
    },
    {
      "cell_type": "markdown",
      "source": [
        "![image.png](data:image/png;base64,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)"
      ],
      "metadata": {
        "id": "a3dyY06SzXSE"
      }
    },
    {
      "cell_type": "markdown",
      "source": [
        "\b"
      ],
      "metadata": {
        "id": "K6k5Jc4YzS9y"
      }
    },
    {
      "cell_type": "code",
      "source": [
        "import torch\n",
        "\n",
        "device = torch.device('cuda')\n",
        "torch.cuda.is_available()"
      ],
      "metadata": {
        "colab": {
          "base_uri": "https://localhost:8080/"
        },
        "id": "4_Bwfa01go4K",
        "outputId": "b1beb3d3-a56e-4678-daf2-c27f6d981625"
      },
      "execution_count": 1,
      "outputs": [
        {
          "output_type": "execute_result",
          "data": {
            "text/plain": [
              "True"
            ]
          },
          "metadata": {},
          "execution_count": 1
        }
      ]
    },
    {
      "cell_type": "code",
      "source": [
        "from torchvision.datasets import FashionMNIST\n",
        "import torchvision.transforms as transforms\n",
        "\n",
        "fashion_mnist_transform = transforms.Compose([\n",
        "    transforms.ToTensor(),\n",
        "    transforms.Resize(224) # 1*28*28 -> 1 * 224 * 224\n",
        "])\n",
        "\n",
        "download_root = './'\n",
        "\n",
        "train_dataset = FashionMNIST(download_root, transform = fashion_mnist_transform, train= True, download = True)\n",
        "test_dataset = FashionMNIST(download_root, transform = fashion_mnist_transform, train= False, download = True)\n"
      ],
      "metadata": {
        "colab": {
          "base_uri": "https://localhost:8080/",
          "height": 431,
          "referenced_widgets": [
            "013cb7ec60dd48ffa3707f6ed5a53ac9",
            "d3145c1d33e84c3f8b100d391847a935",
            "4a63f57822f04fbbbc634bdeb740d552",
            "a8be3bb4e93a448a88455869b7f60a7f",
            "962b27163c654cc6ae78ef32db86e1cb",
            "ce10ae52c9964f8bae84aa0310bbbce3",
            "3f9145238ff3403c8cbb09aca6bdd0ad",
            "6a2460c511dd44ea84e66af74048681a",
            "e3e73ac3d4ef462e9d8c2e97f064d3b3",
            "9605fc9cb8cb450280c8a78c5fb8f1e3",
            "3ea20d22876f4adda8049b7e2d4215a6",
            "00746fea86574f8887c2741796b40a69",
            "b6b4a75bfde14eb6a37dcf764e6dbe25",
            "7e9e94e513df47699c2d3173cc9c91fe",
            "f8ce697c48194cdc9161068373f0eda7",
            "76968e3bc95d43dca24fb976780e83b2",
            "e31ef5f361544db9b9436ffc4849af7b",
            "16214ff661974948897d0dfac3a769e8",
            "b94135eef3a94876a584007f8b34065a",
            "f556c9ef499e467c8493ec8d0adad09f",
            "dbc57f5f040b4595aa55df0d6a755db6",
            "f458886ef99746ffb6af63acee2b26ea",
            "3aea389dfaaf47d4b909405695642bc8",
            "b533d9255db845b093205e7b099ea5d9",
            "6aad8ada824f42fd8dda9090c96461fc",
            "6b78ef2f8ad248a6b29bde74796af032",
            "fc301f1b365d462aa163e36b77ada2b6",
            "e80f4fd663b84491bbf2d0aec6b06197",
            "bb7a8c76868d47d4b1d8f46c1b042e3f",
            "396e28dff4614acdb072bc09fa79a6b3",
            "aa366be7781d4f37a0cedb8b2fbb6955",
            "683c215e6cbd4c50998cfa6399e060ec",
            "1e96843d5d4247b5b7beefc22b2b0d09",
            "1dcf1b6cca3341bebbf008f7df5fbeda",
            "934da1959cc74192b26cafd0047b2bb9",
            "f1183908c1cb40509eee04a89fa5622a",
            "f320e451cd4d482983b20ae37388dbb7",
            "21e6980191ee44c3a0b814d08631bee6",
            "6a83ef22b73641f9979ef9ab3f624192",
            "6e389b02732c443e8c7a739dc07eb8d6",
            "dad4b66b44c140d5830b23f149308bce",
            "c0a384a5a0f44d29af2304717c654260",
            "3d13dbae723449508906ede1e807cf3a",
            "4e5d10e5d70d45d5bfa8c1e1d0224f6c"
          ]
        },
        "id": "enJ_U1cJhO_2",
        "outputId": "f5305385-abad-4ae0-e782-8d6e1e75ee4e"
      },
      "execution_count": 2,
      "outputs": [
        {
          "output_type": "stream",
          "name": "stdout",
          "text": [
            "Downloading http://fashion-mnist.s3-website.eu-central-1.amazonaws.com/train-images-idx3-ubyte.gz\n",
            "Downloading http://fashion-mnist.s3-website.eu-central-1.amazonaws.com/train-images-idx3-ubyte.gz to ./FashionMNIST/raw/train-images-idx3-ubyte.gz\n"
          ]
        },
        {
          "output_type": "display_data",
          "data": {
            "text/plain": [
              "  0%|          | 0/26421880 [00:00<?, ?it/s]"
            ],
            "application/vnd.jupyter.widget-view+json": {
              "version_major": 2,
              "version_minor": 0,
              "model_id": "013cb7ec60dd48ffa3707f6ed5a53ac9"
            }
          },
          "metadata": {}
        },
        {
          "output_type": "stream",
          "name": "stdout",
          "text": [
            "Extracting ./FashionMNIST/raw/train-images-idx3-ubyte.gz to ./FashionMNIST/raw\n",
            "\n",
            "Downloading http://fashion-mnist.s3-website.eu-central-1.amazonaws.com/train-labels-idx1-ubyte.gz\n",
            "Downloading http://fashion-mnist.s3-website.eu-central-1.amazonaws.com/train-labels-idx1-ubyte.gz to ./FashionMNIST/raw/train-labels-idx1-ubyte.gz\n"
          ]
        },
        {
          "output_type": "display_data",
          "data": {
            "text/plain": [
              "  0%|          | 0/29515 [00:00<?, ?it/s]"
            ],
            "application/vnd.jupyter.widget-view+json": {
              "version_major": 2,
              "version_minor": 0,
              "model_id": "00746fea86574f8887c2741796b40a69"
            }
          },
          "metadata": {}
        },
        {
          "output_type": "stream",
          "name": "stdout",
          "text": [
            "Extracting ./FashionMNIST/raw/train-labels-idx1-ubyte.gz to ./FashionMNIST/raw\n",
            "\n",
            "Downloading http://fashion-mnist.s3-website.eu-central-1.amazonaws.com/t10k-images-idx3-ubyte.gz\n",
            "Downloading http://fashion-mnist.s3-website.eu-central-1.amazonaws.com/t10k-images-idx3-ubyte.gz to ./FashionMNIST/raw/t10k-images-idx3-ubyte.gz\n"
          ]
        },
        {
          "output_type": "display_data",
          "data": {
            "text/plain": [
              "  0%|          | 0/4422102 [00:00<?, ?it/s]"
            ],
            "application/vnd.jupyter.widget-view+json": {
              "version_major": 2,
              "version_minor": 0,
              "model_id": "3aea389dfaaf47d4b909405695642bc8"
            }
          },
          "metadata": {}
        },
        {
          "output_type": "stream",
          "name": "stdout",
          "text": [
            "Extracting ./FashionMNIST/raw/t10k-images-idx3-ubyte.gz to ./FashionMNIST/raw\n",
            "\n",
            "Downloading http://fashion-mnist.s3-website.eu-central-1.amazonaws.com/t10k-labels-idx1-ubyte.gz\n",
            "Downloading http://fashion-mnist.s3-website.eu-central-1.amazonaws.com/t10k-labels-idx1-ubyte.gz to ./FashionMNIST/raw/t10k-labels-idx1-ubyte.gz\n"
          ]
        },
        {
          "output_type": "display_data",
          "data": {
            "text/plain": [
              "  0%|          | 0/5148 [00:00<?, ?it/s]"
            ],
            "application/vnd.jupyter.widget-view+json": {
              "version_major": 2,
              "version_minor": 0,
              "model_id": "1dcf1b6cca3341bebbf008f7df5fbeda"
            }
          },
          "metadata": {}
        },
        {
          "output_type": "stream",
          "name": "stdout",
          "text": [
            "Extracting ./FashionMNIST/raw/t10k-labels-idx1-ubyte.gz to ./FashionMNIST/raw\n",
            "\n"
          ]
        }
      ]
    },
    {
      "cell_type": "code",
      "source": [
        "from torch.utils.data import DataLoader\n",
        "\n",
        "batch_size = 64\n",
        "\n",
        "train_loader = DataLoader(dataset=train_dataset, batch_size = batch_size, shuffle = True)\n",
        "test_loader = DataLoader(dataset=test_dataset, batch_size = batch_size, shuffle = True)"
      ],
      "metadata": {
        "id": "JdyIMyxXhfZY"
      },
      "execution_count": 3,
      "outputs": []
    },
    {
      "cell_type": "code",
      "source": [
        "import matplotlib.pyplot as plt\n",
        "\n",
        "plt.imshow(train_dataset[0][0][0].numpy(),\n",
        "           cmap = 'gray')"
      ],
      "metadata": {
        "colab": {
          "base_uri": "https://localhost:8080/",
          "height": 287
        },
        "id": "EdGNrF0li5Dl",
        "outputId": "68c4e304-62fb-4c39-f687-8367c9fbf2ae"
      },
      "execution_count": 4,
      "outputs": [
        {
          "output_type": "execute_result",
          "data": {
            "text/plain": [
              "<matplotlib.image.AxesImage at 0x7f6797877290>"
            ]
          },
          "metadata": {},
          "execution_count": 4
        },
        {
          "output_type": "display_data",
          "data": {
            "text/plain": [
              "<Figure size 432x288 with 1 Axes>"
            ],
            "image/png": "[encoded data removed]"
          },
          "metadata": {
            "needs_background": "light"
          }
        }
      ]
    },
    {
      "cell_type": "code",
      "source": [
        "from torch import nn\n",
        "\n",
        "\n",
        "# model = nn.Sequential(\n",
        "#     convolution,\n",
        "#     fully connected,\n",
        "#     ReLU\n",
        "# )\n",
        "\n",
        "class AlexNet(nn.Module) :\n",
        "  def __init__(self):\n",
        "    super().__init__()\n",
        "    self.CNN = nn.Sequential(\n",
        "        \n",
        "            nn.Conv2d(in_channels = 1, out_channels = 48, kernel_size = 11, stride = 4, padding = 0),\n",
        "            nn.ReLU(inplace = True),\n",
        "            nn.LocalResponseNorm(size=5, k=2),\n",
        "            nn.MaxPool2d(kernel_size = 3, stride = 2),\n",
        "\n",
        "            nn.Conv2d(in_channels = 48, out_channels = 128, kernel_size = 5, stride = 1, padding = 2),\n",
        "            nn.ReLU(inplace = True),\n",
        "            nn.LocalResponseNorm(size=5, k=2),\n",
        "            nn.MaxPool2d(kernel_size = 3, stride = 2),\n",
        "\n",
        "            nn.Conv2d(in_channels = 128, out_channels = 192, kernel_size = 3, stride = 1, padding = 1),\n",
        "            nn.ReLU(inplace = True),\n",
        "            nn.LocalResponseNorm(size=5, k=2),\n",
        "\n",
        "            nn.Conv2d(in_channels = 192, out_channels = 192, kernel_size = 3, stride = 1, padding = 1),\n",
        "            nn.ReLU(inplace = True),\n",
        "            nn.LocalResponseNorm(size=5, k=2),\n",
        "            \n",
        "            nn.Conv2d(in_channels = 192, out_channels = 128, kernel_size = 3, stride = 1, padding = 1),\n",
        "            nn.ReLU(inplace = True),\n",
        "            nn.LocalResponseNorm(size=5, k=2),\n",
        "            nn.MaxPool2d(kernel_size = 3, stride = 2),\n",
        "    )\n",
        "\n",
        "    self.FC = nn.Sequential(\n",
        "        \n",
        "        nn.Linear(128*6*6,2048),\n",
        "        nn.ReLU(True),\n",
        "        nn.Dropout(0.5),\n",
        "\n",
        "        nn.Linear(2048,2048),\n",
        "        nn.ReLU(True),\n",
        "        nn.Dropout(0.5),\n",
        "\n",
        "        nn.Linear(2048, 10),\n",
        "        nn.Softmax()\n",
        "    )\n",
        "\n",
        "  def forward(self, inp) :\n",
        "    cnn_res = self.CNN(inp)\n",
        "      \n",
        "    #flatten 128* 6* 6 -> 00000(한줄로 나열)\n",
        "    flatten = torch.flatten(cnn_res,1)\n",
        "    fc_res = self.FC(flatten)\n",
        "    return fc_res"
      ],
      "metadata": {
        "id": "m-q88Wu8i8JE"
      },
      "execution_count": 5,
      "outputs": []
    },
    {
      "cell_type": "code",
      "source": [
        "from torch import optim\n",
        "\n",
        "def train(model, epochs) :\n",
        "  \n",
        "  # optimizer setting\n",
        "  optimizer = optim.Adam(model.parameters(), lr=0.0001)\n",
        "  \n",
        "  # Loss function\n",
        "  criterion = nn.CrossEntropyLoss() # classification 분류 -> 여러개 중에서 하나를 고르는 문제기 때문에\n",
        "\n",
        "  for epoch in range(epochs) :\n",
        "    model.train() # 모델을 train상태로 만들기\n",
        "    train_accaracy = 0.0\n",
        "\n",
        "    for batch_ind, samples in enumerate(train_loader) :\n",
        "      x_t, y_t = samples\n",
        "\n",
        "      #device로 x_t, y_t를 보냄\n",
        "      x_t, y_t = x_t.to(device), y_t.to(device)\n",
        "\n",
        "      #x_t를 넣어서 predicted\n",
        "      pred = model(x_t)\n",
        "\n",
        "      # predicted랑 y_t랑 비교 -> 둘의 차이(loss 계산)\n",
        "      loss = criterion(pred, y_t)\n",
        "\n",
        "      # loss 값을 가지고 back-propagation을 진행 -> weight값 업데이트\n",
        "      # optimizer가 해줌\n",
        "      optimizer.zero_grad() # optimizer 초기화\n",
        "      loss.backward() # 역전파 실행\n",
        "      optimizer.step()\n",
        "\n",
        "    # accuary test for train dataset\n",
        "    model.eval() # 모델을 평가 상태로 변경\n",
        "    correct = 0\n",
        "    for xx, yy in train_loader:\n",
        "      data, target = xx.to(device), yy.to(device)\n",
        "      pred = model(data) # pred [0, 0, 0.1, 0.2, 0.1 ... 0] -> 합이 1이 되도록 나타남(Softmax로 인해)\n",
        "      _, predicted = torch.max(pred, 1)\n",
        "      correct += predicted.eq(target.data).sum()\n",
        "\n",
        "    print(\"train accuracy : \", (100 * correct / len(train_loader.dataset)).item())"
      ],
      "metadata": {
        "id": "PyymRMs2jfn9"
      },
      "execution_count": 6,
      "outputs": []
    },
    {
      "cell_type": "markdown",
      "source": [
        "train(model, 30) -> 알아서 30(epoch)만큼 train실행"
      ],
      "metadata": {
        "id": "zlkw74EjnoYW"
      }
    },
    {
      "cell_type": "code",
      "source": [
        "alexnet = AlexNet()\n",
        "alexnet.to(device)\n",
        "train(alexnet, 10)"
      ],
      "metadata": {
        "colab": {
          "base_uri": "https://localhost:8080/",
          "height": 354
        },
        "id": "pplMDsegnjTe",
        "outputId": "28b70197-aebe-42b0-97cb-237b083651a0"
      },
      "execution_count": 7,
      "outputs": [
        {
          "output_type": "error",
          "ename": "RuntimeError",
          "evalue": "ignored",
          "traceback": [
            "\u001b[0;31m---------------------------------------------------------------------------\u001b[0m",
            "\u001b[0;31mRuntimeError\u001b[0m                              Traceback (most recent call last)",
            "\u001b[0;32m<ipython-input-7-de3437cdce82>\u001b[0m in \u001b[0;36m<module>\u001b[0;34m\u001b[0m\n\u001b[1;32m      1\u001b[0m \u001b[0malexnet\u001b[0m \u001b[0;34m=\u001b[0m \u001b[0mAlexNet\u001b[0m\u001b[0;34m(\u001b[0m\u001b[0;34m)\u001b[0m\u001b[0;34m\u001b[0m\u001b[0;34m\u001b[0m\u001b[0m\n\u001b[1;32m      2\u001b[0m \u001b[0malexnet\u001b[0m\u001b[0;34m.\u001b[0m\u001b[0mto\u001b[0m\u001b[0;34m(\u001b[0m\u001b[0mdevice\u001b[0m\u001b[0;34m)\u001b[0m\u001b[0;34m\u001b[0m\u001b[0;34m\u001b[0m\u001b[0m\n\u001b[0;32m----> 3\u001b[0;31m \u001b[0mtrain\u001b[0m\u001b[0;34m(\u001b[0m\u001b[0malexnet\u001b[0m\u001b[0;34m,\u001b[0m \u001b[0;36m10\u001b[0m\u001b[0;34m)\u001b[0m\u001b[0;34m\u001b[0m\u001b[0;34m\u001b[0m\u001b[0m\n\u001b[0m",
            "\u001b[0;32m<ipython-input-6-52d2909c026d>\u001b[0m in \u001b[0;36mtrain\u001b[0;34m(model, epochs)\u001b[0m\n\u001b[1;32m     20\u001b[0m \u001b[0;34m\u001b[0m\u001b[0m\n\u001b[1;32m     21\u001b[0m       \u001b[0;31m#x_t를 넣어서 predicted\u001b[0m\u001b[0;34m\u001b[0m\u001b[0;34m\u001b[0m\u001b[0;34m\u001b[0m\u001b[0m\n\u001b[0;32m---> 22\u001b[0;31m       \u001b[0mpred\u001b[0m \u001b[0;34m=\u001b[0m \u001b[0mmodel\u001b[0m\u001b[0;34m(\u001b[0m\u001b[0mx_t\u001b[0m\u001b[0;34m)\u001b[0m\u001b[0;34m\u001b[0m\u001b[0;34m\u001b[0m\u001b[0m\n\u001b[0m\u001b[1;32m     23\u001b[0m \u001b[0;34m\u001b[0m\u001b[0m\n\u001b[1;32m     24\u001b[0m       \u001b[0;31m# predicted랑 y_t랑 비교 -> 둘의 차이(loss 계산)\u001b[0m\u001b[0;34m\u001b[0m\u001b[0;34m\u001b[0m\u001b[0;34m\u001b[0m\u001b[0m\n",
            "\u001b[0;32m/usr/local/lib/python3.7/dist-packages/torch/nn/modules/module.py\u001b[0m in \u001b[0;36m_call_impl\u001b[0;34m(self, *input, **kwargs)\u001b[0m\n\u001b[1;32m   1128\u001b[0m         if not (self._backward_hooks or self._forward_hooks or self._forward_pre_hooks or _global_backward_hooks\n\u001b[1;32m   1129\u001b[0m                 or _global_forward_hooks or _global_forward_pre_hooks):\n\u001b[0;32m-> 1130\u001b[0;31m             \u001b[0;32mreturn\u001b[0m \u001b[0mforward_call\u001b[0m\u001b[0;34m(\u001b[0m\u001b[0;34m*\u001b[0m\u001b[0minput\u001b[0m\u001b[0;34m,\u001b[0m \u001b[0;34m**\u001b[0m\u001b[0mkwargs\u001b[0m\u001b[0;34m)\u001b[0m\u001b[0;34m\u001b[0m\u001b[0;34m\u001b[0m\u001b[0m\n\u001b[0m\u001b[1;32m   1131\u001b[0m         \u001b[0;31m# Do not call functions when jit is used\u001b[0m\u001b[0;34m\u001b[0m\u001b[0;34m\u001b[0m\u001b[0;34m\u001b[0m\u001b[0m\n\u001b[1;32m   1132\u001b[0m         \u001b[0mfull_backward_hooks\u001b[0m\u001b[0;34m,\u001b[0m \u001b[0mnon_full_backward_hooks\u001b[0m \u001b[0;34m=\u001b[0m \u001b[0;34m[\u001b[0m\u001b[0;34m]\u001b[0m\u001b[0;34m,\u001b[0m \u001b[0;34m[\u001b[0m\u001b[0;34m]\u001b[0m\u001b[0;34m\u001b[0m\u001b[0;34m\u001b[0m\u001b[0m\n",
            "\u001b[0;32m<ipython-input-5-47cb7c7be551>\u001b[0m in \u001b[0;36mforward\u001b[0;34m(self, inp)\u001b[0m\n\u001b[1;32m     56\u001b[0m     \u001b[0;31m#flatten 128* 6* 6 -> 00000(한줄로 나열)\u001b[0m\u001b[0;34m\u001b[0m\u001b[0;34m\u001b[0m\u001b[0;34m\u001b[0m\u001b[0m\n\u001b[1;32m     57\u001b[0m     \u001b[0mflatten\u001b[0m \u001b[0;34m=\u001b[0m \u001b[0mtorch\u001b[0m\u001b[0;34m.\u001b[0m\u001b[0mflatten\u001b[0m\u001b[0;34m(\u001b[0m\u001b[0mcnn_res\u001b[0m\u001b[0;34m,\u001b[0m\u001b[0;36m1\u001b[0m\u001b[0;34m)\u001b[0m\u001b[0;34m\u001b[0m\u001b[0;34m\u001b[0m\u001b[0m\n\u001b[0;32m---> 58\u001b[0;31m     \u001b[0mfc_res\u001b[0m \u001b[0;34m=\u001b[0m \u001b[0mself\u001b[0m\u001b[0;34m.\u001b[0m\u001b[0mFC\u001b[0m\u001b[0;34m(\u001b[0m\u001b[0mflatten\u001b[0m\u001b[0;34m)\u001b[0m\u001b[0;34m\u001b[0m\u001b[0;34m\u001b[0m\u001b[0m\n\u001b[0m\u001b[1;32m     59\u001b[0m     \u001b[0;32mreturn\u001b[0m \u001b[0mfc_res\u001b[0m\u001b[0;34m\u001b[0m\u001b[0;34m\u001b[0m\u001b[0m\n",
            "\u001b[0;32m/usr/local/lib/python3.7/dist-packages/torch/nn/modules/module.py\u001b[0m in \u001b[0;36m_call_impl\u001b[0;34m(self, *input, **kwargs)\u001b[0m\n\u001b[1;32m   1128\u001b[0m         if not (self._backward_hooks or self._forward_hooks or self._forward_pre_hooks or _global_backward_hooks\n\u001b[1;32m   1129\u001b[0m                 or _global_forward_hooks or _global_forward_pre_hooks):\n\u001b[0;32m-> 1130\u001b[0;31m             \u001b[0;32mreturn\u001b[0m \u001b[0mforward_call\u001b[0m\u001b[0;34m(\u001b[0m\u001b[0;34m*\u001b[0m\u001b[0minput\u001b[0m\u001b[0;34m,\u001b[0m \u001b[0;34m**\u001b[0m\u001b[0mkwargs\u001b[0m\u001b[0;34m)\u001b[0m\u001b[0;34m\u001b[0m\u001b[0;34m\u001b[0m\u001b[0m\n\u001b[0m\u001b[1;32m   1131\u001b[0m         \u001b[0;31m# Do not call functions when jit is used\u001b[0m\u001b[0;34m\u001b[0m\u001b[0;34m\u001b[0m\u001b[0;34m\u001b[0m\u001b[0m\n\u001b[1;32m   1132\u001b[0m         \u001b[0mfull_backward_hooks\u001b[0m\u001b[0;34m,\u001b[0m \u001b[0mnon_full_backward_hooks\u001b[0m \u001b[0;34m=\u001b[0m \u001b[0;34m[\u001b[0m\u001b[0;34m]\u001b[0m\u001b[0;34m,\u001b[0m \u001b[0;34m[\u001b[0m\u001b[0;34m]\u001b[0m\u001b[0;34m\u001b[0m\u001b[0;34m\u001b[0m\u001b[0m\n",
            "\u001b[0;32m/usr/local/lib/python3.7/dist-packages/torch/nn/modules/container.py\u001b[0m in \u001b[0;36mforward\u001b[0;34m(self, input)\u001b[0m\n\u001b[1;32m    137\u001b[0m     \u001b[0;32mdef\u001b[0m \u001b[0mforward\u001b[0m\u001b[0;34m(\u001b[0m\u001b[0mself\u001b[0m\u001b[0;34m,\u001b[0m \u001b[0minput\u001b[0m\u001b[0;34m)\u001b[0m\u001b[0;34m:\u001b[0m\u001b[0;34m\u001b[0m\u001b[0;34m\u001b[0m\u001b[0m\n\u001b[1;32m    138\u001b[0m         \u001b[0;32mfor\u001b[0m \u001b[0mmodule\u001b[0m \u001b[0;32min\u001b[0m \u001b[0mself\u001b[0m\u001b[0;34m:\u001b[0m\u001b[0;34m\u001b[0m\u001b[0;34m\u001b[0m\u001b[0m\n\u001b[0;32m--> 139\u001b[0;31m             \u001b[0minput\u001b[0m \u001b[0;34m=\u001b[0m \u001b[0mmodule\u001b[0m\u001b[0;34m(\u001b[0m\u001b[0minput\u001b[0m\u001b[0;34m)\u001b[0m\u001b[0;34m\u001b[0m\u001b[0;34m\u001b[0m\u001b[0m\n\u001b[0m\u001b[1;32m    140\u001b[0m         \u001b[0;32mreturn\u001b[0m \u001b[0minput\u001b[0m\u001b[0;34m\u001b[0m\u001b[0;34m\u001b[0m\u001b[0m\n\u001b[1;32m    141\u001b[0m \u001b[0;34m\u001b[0m\u001b[0m\n",
            "\u001b[0;32m/usr/local/lib/python3.7/dist-packages/torch/nn/modules/module.py\u001b[0m in \u001b[0;36m_call_impl\u001b[0;34m(self, *input, **kwargs)\u001b[0m\n\u001b[1;32m   1128\u001b[0m         if not (self._backward_hooks or self._forward_hooks or self._forward_pre_hooks or _global_backward_hooks\n\u001b[1;32m   1129\u001b[0m                 or _global_forward_hooks or _global_forward_pre_hooks):\n\u001b[0;32m-> 1130\u001b[0;31m             \u001b[0;32mreturn\u001b[0m \u001b[0mforward_call\u001b[0m\u001b[0;34m(\u001b[0m\u001b[0;34m*\u001b[0m\u001b[0minput\u001b[0m\u001b[0;34m,\u001b[0m \u001b[0;34m**\u001b[0m\u001b[0mkwargs\u001b[0m\u001b[0;34m)\u001b[0m\u001b[0;34m\u001b[0m\u001b[0;34m\u001b[0m\u001b[0m\n\u001b[0m\u001b[1;32m   1131\u001b[0m         \u001b[0;31m# Do not call functions when jit is used\u001b[0m\u001b[0;34m\u001b[0m\u001b[0;34m\u001b[0m\u001b[0;34m\u001b[0m\u001b[0m\n\u001b[1;32m   1132\u001b[0m         \u001b[0mfull_backward_hooks\u001b[0m\u001b[0;34m,\u001b[0m \u001b[0mnon_full_backward_hooks\u001b[0m \u001b[0;34m=\u001b[0m \u001b[0;34m[\u001b[0m\u001b[0;34m]\u001b[0m\u001b[0;34m,\u001b[0m \u001b[0;34m[\u001b[0m\u001b[0;34m]\u001b[0m\u001b[0;34m\u001b[0m\u001b[0;34m\u001b[0m\u001b[0m\n",
            "\u001b[0;32m/usr/local/lib/python3.7/dist-packages/torch/nn/modules/linear.py\u001b[0m in \u001b[0;36mforward\u001b[0;34m(self, input)\u001b[0m\n\u001b[1;32m    112\u001b[0m \u001b[0;34m\u001b[0m\u001b[0m\n\u001b[1;32m    113\u001b[0m     \u001b[0;32mdef\u001b[0m \u001b[0mforward\u001b[0m\u001b[0;34m(\u001b[0m\u001b[0mself\u001b[0m\u001b[0;34m,\u001b[0m \u001b[0minput\u001b[0m\u001b[0;34m:\u001b[0m \u001b[0mTensor\u001b[0m\u001b[0;34m)\u001b[0m \u001b[0;34m->\u001b[0m \u001b[0mTensor\u001b[0m\u001b[0;34m:\u001b[0m\u001b[0;34m\u001b[0m\u001b[0;34m\u001b[0m\u001b[0m\n\u001b[0;32m--> 114\u001b[0;31m         \u001b[0;32mreturn\u001b[0m \u001b[0mF\u001b[0m\u001b[0;34m.\u001b[0m\u001b[0mlinear\u001b[0m\u001b[0;34m(\u001b[0m\u001b[0minput\u001b[0m\u001b[0;34m,\u001b[0m \u001b[0mself\u001b[0m\u001b[0;34m.\u001b[0m\u001b[0mweight\u001b[0m\u001b[0;34m,\u001b[0m \u001b[0mself\u001b[0m\u001b[0;34m.\u001b[0m\u001b[0mbias\u001b[0m\u001b[0;34m)\u001b[0m\u001b[0;34m\u001b[0m\u001b[0;34m\u001b[0m\u001b[0m\n\u001b[0m\u001b[1;32m    115\u001b[0m \u001b[0;34m\u001b[0m\u001b[0m\n\u001b[1;32m    116\u001b[0m     \u001b[0;32mdef\u001b[0m \u001b[0mextra_repr\u001b[0m\u001b[0;34m(\u001b[0m\u001b[0mself\u001b[0m\u001b[0;34m)\u001b[0m \u001b[0;34m->\u001b[0m \u001b[0mstr\u001b[0m\u001b[0;34m:\u001b[0m\u001b[0;34m\u001b[0m\u001b[0;34m\u001b[0m\u001b[0m\n",
            "\u001b[0;31mRuntimeError\u001b[0m: mat1 and mat2 shapes cannot be multiplied (64x3200 and 4608x2048)"
          ]
        }
      ]
    },
    {
      "cell_type": "code",
      "source": [
        "def get_n_params(model) :\n",
        "  pp = 0\n",
        "  for p in list(model.parameters()) :\n",
        "    nn = 1\n",
        "    for s in list(p.size()) :\n",
        "      nn = nn*s\n",
        "    pp += nn\n",
        "  return pp\n"
      ],
      "metadata": {
        "id": "E2NbEDELn3v6"
      },
      "execution_count": null,
      "outputs": []
    },
    {
      "cell_type": "code",
      "source": [
        "get_n_params(alexnet)"
      ],
      "metadata": {
        "id": "rK6eEU5ooILe"
      },
      "execution_count": null,
      "outputs": []
    },
    {
      "cell_type": "code",
      "source": [
        "alexnet.eval() # 모델을 평가 상태로 변경\n",
        "correct = 0\n",
        "for xx, yy in train_loader:\n",
        "  data, target = xx.to(device), yy.to(device)\n",
        "  pred = alexnet(data) # pred [0, 0, 0.1, 0.2, 0.1 ... 0] -> 합이 1이 되도록 나타남(Softmax로 인해)\n",
        "  _, predicted = torch.max(pred, 1)\n",
        "  correct += predicted.eq(target.data).sum()\n",
        "\n",
        "print(\"train accuracy : \", (100 * correct / len(train_loader.dataset)).item())\n"
      ],
      "metadata": {
        "id": "3un5njEkoKM2"
      },
      "execution_count": null,
      "outputs": []
    },
    {
      "cell_type": "code",
      "source": [
        "alexnet"
      ],
      "metadata": {
        "id": "5dUE8CWZwNMO"
      },
      "execution_count": null,
      "outputs": []
    },
    {
      "cell_type": "markdown",
      "source": [
        "# Convolution Layer를 증가시키면 성능이 증가하는가?"
      ],
      "metadata": {
        "id": "GnZt4pDCw0Yj"
      }
    },
    {
      "cell_type": "code",
      "source": [
        "# Fashion MNIST\n",
        "\n",
        "class Anet(nn.Module) :\n",
        "\n",
        "  def __init__(self) :\n",
        "    super().__init__()\n",
        "    # CNN\n",
        "    self.CNN = nn.Sequential(\n",
        "        nn.Conv2d(in_channels = 1, out_channels = 16, kernel_size = 3, stride = 1, padding = 1),\n",
        "        nn.ReLU(inplace = True),\n",
        "\n",
        "        nn.Conv2d(in_channels = 16, out_channels = 16, kernel_size = 3, stride = 1, padding = 1),\n",
        "        nn.ReLU(inplace = True),\n",
        "        nn.MaxPool2d(kernel_size = 2, stride = 2),\n",
        "\n",
        "        nn.Conv2d(in_channels = 16, out_channels = 32, kernel_size = 3, stride = 1, padding = 1),\n",
        "        nn.ReLU(inplace = True),\n",
        "\n",
        "        nn.Conv2d(in_channels = 32, out_channels = 32, kernel_size = 3, stride = 1, padding = 1),\n",
        "        nn.ReLU(inplace = True),\n",
        "        nn.MaxPool2d(kernel_size = 2, stride = 2),\n",
        "    \n",
        "        nn.Conv2d(in_channels = 32, out_channels = 64, kernel_size = 3, stride = 1, padding = 1),\n",
        "        nn.ReLU(inplace = True),\n",
        "\n",
        "        nn.Conv2d(in_channels = 64, out_channels = 64, kernel_size = 3, stride = 1, padding = 1),\n",
        "        nn.ReLU(inplace = True),\n",
        "\n",
        "        nn.Conv2d(in_channels = 64, out_channels = 64, kernel_size = 1, stride = 1, padding = 1),\n",
        "        nn.ReLU(inplace = True),\n",
        "        nn.MaxPool2d(kernel_size = 2, stride = 2),\n",
        "    )\n",
        "\n",
        "    # FC \n",
        "    self.FC = nn.Sequential(\n",
        "        nn.Linear(64*29*29,256),\n",
        "        nn.ReLU(True),\n",
        "        nn.Dropout(0.2),\n",
        "\n",
        "        nn.Linear(256,64),\n",
        "        nn.ReLU(True),\n",
        "        nn.Dropout(0.2),\n",
        "\n",
        "        nn.Linear(64, 10),\n",
        "        nn.Softmax()\n",
        "    )\n",
        "  \n",
        "  def forward(self, inp) :\n",
        "    cnn_res = self.CNN(inp)\n",
        "    flatten = torch.flatten(cnn_res, 1)  # Flatten\n",
        "    fc_res = self.FC(flatten) # FC\n",
        "    return fc_res"
      ],
      "metadata": {
        "id": "lZc-QSfWwrjl"
      },
      "execution_count": null,
      "outputs": []
    },
    {
      "cell_type": "code",
      "source": [
        "aaa = Anet()"
      ],
      "metadata": {
        "id": "jcble3XjzF2c"
      },
      "execution_count": null,
      "outputs": []
    },
    {
      "cell_type": "code",
      "source": [
        "get_n_params(aaa)"
      ],
      "metadata": {
        "id": "AWgtaYphzLYI"
      },
      "execution_count": null,
      "outputs": []
    },
    {
      "cell_type": "code",
      "source": [
        "from torchsummary import summary\n",
        "\n",
        "aaa.to(device)\n",
        "\n",
        "summary(aaa, (1,224,224), batch_size=64)\n",
        "\n",
        "train(aaa, 10)"
      ],
      "metadata": {
        "id": "gSDc6KWNzjw1"
      },
      "execution_count": null,
      "outputs": []
    }
  ]
}