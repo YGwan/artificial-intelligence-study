{
  "nbformat": 4,
  "nbformat_minor": 0,
  "metadata": {
    "colab": {
      "name": "CNN.ipynb",
      "provenance": [],
      "collapsed_sections": []
    },
    "kernelspec": {
      "name": "python3",
      "display_name": "Python 3"
    },
    "language_info": {
      "name": "python"
    },
    "accelerator": "GPU"
  },
  "cells": [
    {
      "cell_type": "code",
      "metadata": {
        "colab": {
          "base_uri": "https://localhost:8080/"
        },
        "id": "RP_RBYR5_oZA",
        "outputId": "8408fa23-9730-4648-a948-74f310df5152"
      },
      "source": [
        "# Convolutional Neural Network \n",
        "# Convolutional  Neural  Network”  indicates  that  the network  employs  amathematical operation called convolution\n",
        "\n",
        "# CIFAR-10\n",
        "# The CIFAR-10 dataset (Canadian Institute For Advanced Research) is a collectionof images \n",
        "# that are commonly used to train machine learning and computer visionalgorithms\n",
        "\n",
        "# Import modules\n",
        "import tensorflow as tf\n",
        "from tensorflow.keras import datasets, layers, models\n",
        "from keras.layers import Dropout\n",
        "from keras.constraints import maxnorm\n",
        "\n",
        "# Prepare data for training & testing\n",
        "(train_images, train_labels), (test_images, test_labels) = datasets.cifar10.load_data()\n",
        "print(train_images.shape)\n",
        "print(train_labels.shape)\n",
        "\n",
        "train_images=train_images/255.0\n",
        "test_images=test_images/255.0"
      ],
      "execution_count": null,
      "outputs": [
        {
          "output_type": "stream",
          "name": "stdout",
          "text": [
            "Downloading data from https://www.cs.toronto.edu/~kriz/cifar-10-python.tar.gz\n",
            "170500096/170498071 [==============================] - 2s 0us/step\n",
            "170508288/170498071 [==============================] - 2s 0us/step\n",
            "(50000, 32, 32, 3)\n",
            "(50000, 1)\n"
          ]
        }
      ]
    },
    {
      "cell_type": "code",
      "metadata": {
        "colab": {
          "base_uri": "https://localhost:8080/"
        },
        "id": "Ca6u3YNocfAh",
        "outputId": "b0e903c9-4526-4b1e-a5db-63f8dbbdb9bf"
      },
      "source": [
        "model = models.Sequential()\n",
        "\n",
        "# # 3 X 3 크기의 32개의 마스크 적용\n",
        "model.add(layers.Conv2D(32, (3, 3), input_shape=(32, 32, 3), activation='relu', padding='same'))\n",
        "model.add(Dropout(0.2)) # drop out 0.2: 은닉층에 배치된 노드 중 20%를 임의로 꺼줌.\n",
        "model.add(layers.Conv2D(32, (3, 3), activation='relu', padding='same'))\n",
        "model.add(layers.MaxPooling2D((2, 2))) # 맥스 풀링\n",
        "\n",
        "\n",
        "# 3 X 3 크기의 64개의 마스크 적용\n",
        "model.add(layers.Conv2D(64, (3, 3), activation='relu', padding='same'))\n",
        "model.add(Dropout(0.2))\n",
        "model.add(layers.Conv2D(64, (3, 3), activation='relu', padding='same'))\n",
        "model.add(layers.MaxPooling2D((2, 2)))\n",
        "\n",
        "# 3 X 3 크기의 128개의 마스크 적용\n",
        "model.add(layers.Conv2D(128, (3, 3), activation='relu', padding='same'))\n",
        "model.add(Dropout(0.2))\n",
        "model.add(layers.Conv2D(128, (3, 3), activation='relu', padding='same'))\n",
        "model.add(layers.MaxPooling2D((2, 2)))\n",
        "\n",
        "# 2차원 배열 -> 1차원 배열\n",
        "\n",
        "model.add(layers.Flatten())\n",
        "model.add(Dropout(0.3))\n",
        "\n",
        "# 512 개의 노드를 가진 층\n",
        "model.add(layers.Dense(512, activation='relu', kernel_constraint=maxnorm(3)))\n",
        "model.add(Dropout(0.3))\n",
        "\n",
        "# 256 개의 노드를 가진 층\n",
        "model.add(layers.Dense(256, activation='relu', kernel_constraint=maxnorm(3)))\n",
        "model.add(Dropout(0.3))\n",
        "\n",
        "# 128 개의 노드를 가진 층\n",
        "model.add(layers.Dense(128, activation='relu', kernel_constraint=maxnorm(3)))\n",
        "model.add(Dropout(0.3))\n",
        "\n",
        "# 출력층 생성\n",
        "model.add(layers.Dense(10, activation='softmax'))\n",
        "model.summary()\n"
      ],
      "execution_count": null,
      "outputs": [
        {
          "output_type": "stream",
          "name": "stdout",
          "text": [
            "Model: \"sequential\"\n",
            "_________________________________________________________________\n",
            " Layer (type)                Output Shape              Param #   \n",
            "=================================================================\n",
            " conv2d (Conv2D)             (None, 32, 32, 32)        896       \n",
            "                                                                 \n",
            " dropout (Dropout)           (None, 32, 32, 32)        0         \n",
            "                                                                 \n",
            " conv2d_1 (Conv2D)           (None, 32, 32, 32)        9248      \n",
            "                                                                 \n",
            " max_pooling2d (MaxPooling2D  (None, 16, 16, 32)       0         \n",
            " )                                                               \n",
            "                                                                 \n",
            " conv2d_2 (Conv2D)           (None, 16, 16, 64)        18496     \n",
            "                                                                 \n",
            " dropout_1 (Dropout)         (None, 16, 16, 64)        0         \n",
            "                                                                 \n",
            " conv2d_3 (Conv2D)           (None, 16, 16, 64)        36928     \n",
            "                                                                 \n",
            " max_pooling2d_1 (MaxPooling  (None, 8, 8, 64)         0         \n",
            " 2D)                                                             \n",
            "                                                                 \n",
            " conv2d_4 (Conv2D)           (None, 8, 8, 128)         73856     \n",
            "                                                                 \n",
            " dropout_2 (Dropout)         (None, 8, 8, 128)         0         \n",
            "                                                                 \n",
            " conv2d_5 (Conv2D)           (None, 8, 8, 128)         147584    \n",
            "                                                                 \n",
            " max_pooling2d_2 (MaxPooling  (None, 4, 4, 128)        0         \n",
            " 2D)                                                             \n",
            "                                                                 \n",
            " flatten (Flatten)           (None, 2048)              0         \n",
            "                                                                 \n",
            " dropout_3 (Dropout)         (None, 2048)              0         \n",
            "                                                                 \n",
            " dense (Dense)               (None, 512)               1049088   \n",
            "                                                                 \n",
            " dropout_4 (Dropout)         (None, 512)               0         \n",
            "                                                                 \n",
            " dense_1 (Dense)             (None, 256)               131328    \n",
            "                                                                 \n",
            " dropout_5 (Dropout)         (None, 256)               0         \n",
            "                                                                 \n",
            " dense_2 (Dense)             (None, 128)               32896     \n",
            "                                                                 \n",
            " dropout_6 (Dropout)         (None, 128)               0         \n",
            "                                                                 \n",
            " dense_3 (Dense)             (None, 10)                1290      \n",
            "                                                                 \n",
            "=================================================================\n",
            "Total params: 1,501,610\n",
            "Trainable params: 1,501,610\n",
            "Non-trainable params: 0\n",
            "_________________________________________________________________\n"
          ]
        }
      ]
    },
    {
      "cell_type": "code",
      "metadata": {
        "colab": {
          "base_uri": "https://localhost:8080/"
        },
        "id": "l05Wv-n3eVzL",
        "outputId": "d8950744-ff2b-4bf5-b55e-5faa2358580b"
      },
      "source": [
        "# Use one-hot-encoding to use Categorical Cross Entropy for loss function\n",
        "train_labels = tf.keras.utils.to_categorical(train_labels, 10)\n",
        "test_labels = tf.keras.utils.to_categorical(test_labels, 10)\n",
        "\n",
        "# Specify optimizer (ADAM) & loss function(CategoricalCrossentropy)\n",
        "model.compile(optimizer='adam', loss=tf.keras.losses.CategoricalCrossentropy(from_logits=True),metrics=['accuracy'])\n",
        "\n",
        "# Training\n",
        "history=model.fit(train_images, train_labels, epochs=100, batch_size= 100, validation_data=(test_images, test_labels))"
      ],
      "execution_count": null,
      "outputs": [
        {
          "output_type": "stream",
          "name": "stdout",
          "text": [
            "Epoch 1/100\n"
          ]
        },
        {
          "output_type": "stream",
          "name": "stderr",
          "text": [
            "/usr/local/lib/python3.7/dist-packages/tensorflow/python/util/dispatch.py:1096: UserWarning: \"`categorical_crossentropy` received `from_logits=True`, but the `output` argument was produced by a sigmoid or softmax activation and thus does not represent logits. Was this intended?\"\n",
            "  return dispatch_target(*args, **kwargs)\n"
          ]
        },
        {
          "output_type": "stream",
          "name": "stdout",
          "text": [
            "500/500 [==============================] - 27s 35ms/step - loss: 1.8221 - accuracy: 0.3095 - val_loss: 1.4387 - val_accuracy: 0.4693\n",
            "Epoch 2/100\n",
            "500/500 [==============================] - 17s 34ms/step - loss: 1.3691 - accuracy: 0.5043 - val_loss: 1.1764 - val_accuracy: 0.5813\n",
            "Epoch 3/100\n",
            "500/500 [==============================] - 17s 35ms/step - loss: 1.1482 - accuracy: 0.5909 - val_loss: 1.0147 - val_accuracy: 0.6449\n",
            "Epoch 4/100\n",
            "500/500 [==============================] - 17s 34ms/step - loss: 1.0241 - accuracy: 0.6417 - val_loss: 1.0163 - val_accuracy: 0.6546\n",
            "Epoch 5/100\n",
            "500/500 [==============================] - 17s 35ms/step - loss: 0.9310 - accuracy: 0.6761 - val_loss: 0.8686 - val_accuracy: 0.6958\n",
            "Epoch 6/100\n",
            "500/500 [==============================] - 17s 34ms/step - loss: 0.8607 - accuracy: 0.7013 - val_loss: 0.8535 - val_accuracy: 0.6985\n",
            "Epoch 7/100\n",
            "500/500 [==============================] - 17s 35ms/step - loss: 0.8016 - accuracy: 0.7260 - val_loss: 0.7721 - val_accuracy: 0.7301\n",
            "Epoch 8/100\n",
            "500/500 [==============================] - 17s 34ms/step - loss: 0.7464 - accuracy: 0.7429 - val_loss: 0.7160 - val_accuracy: 0.7531\n",
            "Epoch 9/100\n",
            "500/500 [==============================] - 17s 34ms/step - loss: 0.7109 - accuracy: 0.7550 - val_loss: 0.6722 - val_accuracy: 0.7687\n",
            "Epoch 10/100\n",
            "500/500 [==============================] - 18s 35ms/step - loss: 0.6810 - accuracy: 0.7662 - val_loss: 0.6980 - val_accuracy: 0.7634\n",
            "Epoch 11/100\n",
            "500/500 [==============================] - 17s 34ms/step - loss: 0.6572 - accuracy: 0.7744 - val_loss: 0.6429 - val_accuracy: 0.7812\n",
            "Epoch 12/100\n",
            "500/500 [==============================] - 17s 35ms/step - loss: 0.6256 - accuracy: 0.7868 - val_loss: 0.6455 - val_accuracy: 0.7821\n",
            "Epoch 13/100\n",
            "500/500 [==============================] - 17s 35ms/step - loss: 0.6057 - accuracy: 0.7931 - val_loss: 0.6809 - val_accuracy: 0.7713\n",
            "Epoch 14/100\n",
            "500/500 [==============================] - 17s 34ms/step - loss: 0.5944 - accuracy: 0.7957 - val_loss: 0.6343 - val_accuracy: 0.7877\n",
            "Epoch 15/100\n",
            "500/500 [==============================] - 17s 34ms/step - loss: 0.5676 - accuracy: 0.8073 - val_loss: 0.6340 - val_accuracy: 0.7873\n",
            "Epoch 16/100\n",
            "500/500 [==============================] - 17s 35ms/step - loss: 0.5526 - accuracy: 0.8118 - val_loss: 0.5907 - val_accuracy: 0.8014\n",
            "Epoch 17/100\n",
            "500/500 [==============================] - 17s 34ms/step - loss: 0.5404 - accuracy: 0.8157 - val_loss: 0.6050 - val_accuracy: 0.7953\n",
            "Epoch 18/100\n",
            "500/500 [==============================] - 17s 35ms/step - loss: 0.5187 - accuracy: 0.8244 - val_loss: 0.5855 - val_accuracy: 0.8070\n",
            "Epoch 19/100\n",
            "500/500 [==============================] - 17s 34ms/step - loss: 0.5163 - accuracy: 0.8247 - val_loss: 0.5732 - val_accuracy: 0.8097\n",
            "Epoch 20/100\n",
            "500/500 [==============================] - 17s 34ms/step - loss: 0.5022 - accuracy: 0.8302 - val_loss: 0.5932 - val_accuracy: 0.8024\n",
            "Epoch 21/100\n",
            "500/500 [==============================] - 17s 35ms/step - loss: 0.4904 - accuracy: 0.8336 - val_loss: 0.5881 - val_accuracy: 0.8068\n",
            "Epoch 22/100\n",
            "500/500 [==============================] - 17s 35ms/step - loss: 0.4828 - accuracy: 0.8349 - val_loss: 0.5780 - val_accuracy: 0.8081\n",
            "Epoch 23/100\n",
            "500/500 [==============================] - 17s 34ms/step - loss: 0.4774 - accuracy: 0.8363 - val_loss: 0.5946 - val_accuracy: 0.8040\n",
            "Epoch 24/100\n",
            "500/500 [==============================] - 17s 34ms/step - loss: 0.4675 - accuracy: 0.8398 - val_loss: 0.5789 - val_accuracy: 0.8073\n",
            "Epoch 25/100\n",
            "500/500 [==============================] - 17s 35ms/step - loss: 0.4619 - accuracy: 0.8433 - val_loss: 0.5885 - val_accuracy: 0.8061\n",
            "Epoch 26/100\n",
            "500/500 [==============================] - 17s 34ms/step - loss: 0.4485 - accuracy: 0.8485 - val_loss: 0.5685 - val_accuracy: 0.8137\n",
            "Epoch 27/100\n",
            "500/500 [==============================] - 17s 35ms/step - loss: 0.4447 - accuracy: 0.8483 - val_loss: 0.5717 - val_accuracy: 0.8158\n",
            "Epoch 28/100\n",
            "500/500 [==============================] - 17s 35ms/step - loss: 0.4462 - accuracy: 0.8476 - val_loss: 0.5596 - val_accuracy: 0.8172\n",
            "Epoch 29/100\n",
            "500/500 [==============================] - 17s 35ms/step - loss: 0.4292 - accuracy: 0.8544 - val_loss: 0.5732 - val_accuracy: 0.8152\n",
            "Epoch 30/100\n",
            "500/500 [==============================] - 17s 35ms/step - loss: 0.4328 - accuracy: 0.8552 - val_loss: 0.5535 - val_accuracy: 0.8208\n",
            "Epoch 31/100\n",
            "500/500 [==============================] - 17s 35ms/step - loss: 0.4148 - accuracy: 0.8585 - val_loss: 0.5874 - val_accuracy: 0.8128\n",
            "Epoch 32/100\n",
            "500/500 [==============================] - 17s 34ms/step - loss: 0.4165 - accuracy: 0.8600 - val_loss: 0.5766 - val_accuracy: 0.8199\n",
            "Epoch 33/100\n",
            "500/500 [==============================] - 18s 35ms/step - loss: 0.4147 - accuracy: 0.8610 - val_loss: 0.6037 - val_accuracy: 0.8110\n",
            "Epoch 34/100\n",
            "500/500 [==============================] - 17s 35ms/step - loss: 0.4114 - accuracy: 0.8618 - val_loss: 0.5789 - val_accuracy: 0.8166\n",
            "Epoch 35/100\n",
            "500/500 [==============================] - 17s 35ms/step - loss: 0.3988 - accuracy: 0.8647 - val_loss: 0.5696 - val_accuracy: 0.8233\n",
            "Epoch 36/100\n",
            "500/500 [==============================] - 17s 35ms/step - loss: 0.3955 - accuracy: 0.8670 - val_loss: 0.5518 - val_accuracy: 0.8209\n",
            "Epoch 37/100\n",
            "500/500 [==============================] - 17s 35ms/step - loss: 0.4006 - accuracy: 0.8640 - val_loss: 0.6018 - val_accuracy: 0.8105\n",
            "Epoch 38/100\n",
            "500/500 [==============================] - 17s 34ms/step - loss: 0.3961 - accuracy: 0.8664 - val_loss: 0.5842 - val_accuracy: 0.8130\n",
            "Epoch 39/100\n",
            "500/500 [==============================] - 17s 34ms/step - loss: 0.3925 - accuracy: 0.8676 - val_loss: 0.5645 - val_accuracy: 0.8210\n",
            "Epoch 40/100\n",
            "500/500 [==============================] - 17s 35ms/step - loss: 0.3814 - accuracy: 0.8705 - val_loss: 0.5808 - val_accuracy: 0.8199\n",
            "Epoch 41/100\n",
            "500/500 [==============================] - 17s 34ms/step - loss: 0.3728 - accuracy: 0.8753 - val_loss: 0.5738 - val_accuracy: 0.8118\n",
            "Epoch 42/100\n",
            "500/500 [==============================] - 17s 34ms/step - loss: 0.3760 - accuracy: 0.8753 - val_loss: 0.5357 - val_accuracy: 0.8276\n",
            "Epoch 43/100\n",
            "500/500 [==============================] - 17s 35ms/step - loss: 0.3723 - accuracy: 0.8750 - val_loss: 0.5904 - val_accuracy: 0.8136\n",
            "Epoch 44/100\n",
            "500/500 [==============================] - 17s 35ms/step - loss: 0.3711 - accuracy: 0.8756 - val_loss: 0.5575 - val_accuracy: 0.8213\n",
            "Epoch 45/100\n",
            "500/500 [==============================] - 17s 34ms/step - loss: 0.3689 - accuracy: 0.8750 - val_loss: 0.5515 - val_accuracy: 0.8277\n",
            "Epoch 46/100\n",
            "500/500 [==============================] - 17s 35ms/step - loss: 0.3613 - accuracy: 0.8772 - val_loss: 0.5677 - val_accuracy: 0.8190\n",
            "Epoch 47/100\n",
            "500/500 [==============================] - 17s 35ms/step - loss: 0.3628 - accuracy: 0.8791 - val_loss: 0.5913 - val_accuracy: 0.8150\n",
            "Epoch 48/100\n",
            "500/500 [==============================] - 17s 34ms/step - loss: 0.3655 - accuracy: 0.8792 - val_loss: 0.5861 - val_accuracy: 0.8185\n",
            "Epoch 49/100\n",
            "500/500 [==============================] - 17s 35ms/step - loss: 0.3532 - accuracy: 0.8820 - val_loss: 0.5642 - val_accuracy: 0.8236\n",
            "Epoch 50/100\n",
            "500/500 [==============================] - 17s 35ms/step - loss: 0.3558 - accuracy: 0.8819 - val_loss: 0.5411 - val_accuracy: 0.8290\n",
            "Epoch 51/100\n",
            "500/500 [==============================] - 17s 34ms/step - loss: 0.3437 - accuracy: 0.8848 - val_loss: 0.5364 - val_accuracy: 0.8291\n",
            "Epoch 52/100\n",
            "500/500 [==============================] - 17s 34ms/step - loss: 0.3545 - accuracy: 0.8818 - val_loss: 0.5867 - val_accuracy: 0.8263\n",
            "Epoch 53/100\n",
            "500/500 [==============================] - 17s 34ms/step - loss: 0.3482 - accuracy: 0.8835 - val_loss: 0.5659 - val_accuracy: 0.8284\n",
            "Epoch 54/100\n",
            "500/500 [==============================] - 17s 34ms/step - loss: 0.3429 - accuracy: 0.8861 - val_loss: 0.5764 - val_accuracy: 0.8205\n",
            "Epoch 55/100\n",
            "500/500 [==============================] - 17s 34ms/step - loss: 0.3415 - accuracy: 0.8873 - val_loss: 0.5688 - val_accuracy: 0.8233\n",
            "Epoch 56/100\n",
            "500/500 [==============================] - 17s 35ms/step - loss: 0.3398 - accuracy: 0.8855 - val_loss: 0.5486 - val_accuracy: 0.8311\n",
            "Epoch 57/100\n",
            "500/500 [==============================] - 17s 34ms/step - loss: 0.3409 - accuracy: 0.8870 - val_loss: 0.5649 - val_accuracy: 0.8263\n",
            "Epoch 58/100\n",
            "500/500 [==============================] - 17s 35ms/step - loss: 0.3375 - accuracy: 0.8883 - val_loss: 0.5508 - val_accuracy: 0.8294\n",
            "Epoch 59/100\n",
            "500/500 [==============================] - 17s 34ms/step - loss: 0.3334 - accuracy: 0.8901 - val_loss: 0.5425 - val_accuracy: 0.8319\n",
            "Epoch 60/100\n",
            "500/500 [==============================] - 17s 35ms/step - loss: 0.3334 - accuracy: 0.8896 - val_loss: 0.5529 - val_accuracy: 0.8293\n",
            "Epoch 61/100\n",
            "500/500 [==============================] - 17s 35ms/step - loss: 0.3375 - accuracy: 0.8885 - val_loss: 0.5644 - val_accuracy: 0.8219\n",
            "Epoch 62/100\n",
            "500/500 [==============================] - 17s 34ms/step - loss: 0.3306 - accuracy: 0.8896 - val_loss: 0.5640 - val_accuracy: 0.8257\n",
            "Epoch 63/100\n",
            "500/500 [==============================] - 17s 35ms/step - loss: 0.3278 - accuracy: 0.8927 - val_loss: 0.5728 - val_accuracy: 0.8276\n",
            "Epoch 64/100\n",
            "500/500 [==============================] - 17s 35ms/step - loss: 0.3287 - accuracy: 0.8914 - val_loss: 0.5419 - val_accuracy: 0.8371\n",
            "Epoch 65/100\n",
            "500/500 [==============================] - 17s 34ms/step - loss: 0.3223 - accuracy: 0.8910 - val_loss: 0.5447 - val_accuracy: 0.8317\n",
            "Epoch 66/100\n",
            "500/500 [==============================] - 17s 35ms/step - loss: 0.3269 - accuracy: 0.8925 - val_loss: 0.5651 - val_accuracy: 0.8293\n",
            "Epoch 67/100\n",
            "500/500 [==============================] - 17s 35ms/step - loss: 0.3201 - accuracy: 0.8956 - val_loss: 0.5626 - val_accuracy: 0.8278\n",
            "Epoch 68/100\n",
            "500/500 [==============================] - 17s 35ms/step - loss: 0.3221 - accuracy: 0.8929 - val_loss: 0.5348 - val_accuracy: 0.8353\n",
            "Epoch 69/100\n",
            "500/500 [==============================] - 17s 34ms/step - loss: 0.3223 - accuracy: 0.8943 - val_loss: 0.5723 - val_accuracy: 0.8318\n",
            "Epoch 70/100\n",
            "500/500 [==============================] - 17s 34ms/step - loss: 0.3205 - accuracy: 0.8940 - val_loss: 0.5539 - val_accuracy: 0.8361\n",
            "Epoch 71/100\n",
            "500/500 [==============================] - 17s 35ms/step - loss: 0.3124 - accuracy: 0.8991 - val_loss: 0.5666 - val_accuracy: 0.8278\n",
            "Epoch 72/100\n",
            "500/500 [==============================] - 17s 34ms/step - loss: 0.3231 - accuracy: 0.8943 - val_loss: 0.5693 - val_accuracy: 0.8305\n",
            "Epoch 73/100\n",
            "500/500 [==============================] - 17s 34ms/step - loss: 0.3113 - accuracy: 0.8991 - val_loss: 0.5394 - val_accuracy: 0.8347\n",
            "Epoch 74/100\n",
            "500/500 [==============================] - 17s 34ms/step - loss: 0.3123 - accuracy: 0.8967 - val_loss: 0.5639 - val_accuracy: 0.8316\n",
            "Epoch 75/100\n",
            "500/500 [==============================] - 17s 34ms/step - loss: 0.3066 - accuracy: 0.8999 - val_loss: 0.5870 - val_accuracy: 0.8262\n",
            "Epoch 76/100\n",
            "500/500 [==============================] - 17s 34ms/step - loss: 0.3129 - accuracy: 0.8986 - val_loss: 0.5522 - val_accuracy: 0.8337\n",
            "Epoch 77/100\n",
            "500/500 [==============================] - 17s 35ms/step - loss: 0.3121 - accuracy: 0.8978 - val_loss: 0.5739 - val_accuracy: 0.8228\n",
            "Epoch 78/100\n",
            "500/500 [==============================] - 17s 34ms/step - loss: 0.3052 - accuracy: 0.8992 - val_loss: 0.5632 - val_accuracy: 0.8309\n",
            "Epoch 79/100\n",
            "500/500 [==============================] - 17s 35ms/step - loss: 0.3107 - accuracy: 0.8976 - val_loss: 0.5536 - val_accuracy: 0.8353\n",
            "Epoch 80/100\n",
            "500/500 [==============================] - 17s 34ms/step - loss: 0.3065 - accuracy: 0.8994 - val_loss: 0.5598 - val_accuracy: 0.8323\n",
            "Epoch 81/100\n",
            "500/500 [==============================] - 17s 35ms/step - loss: 0.3125 - accuracy: 0.8964 - val_loss: 0.5572 - val_accuracy: 0.8331\n",
            "Epoch 82/100\n",
            "500/500 [==============================] - 17s 34ms/step - loss: 0.3053 - accuracy: 0.9014 - val_loss: 0.5591 - val_accuracy: 0.8315\n",
            "Epoch 83/100\n",
            "500/500 [==============================] - 17s 34ms/step - loss: 0.2991 - accuracy: 0.9032 - val_loss: 0.5770 - val_accuracy: 0.8296\n",
            "Epoch 84/100\n",
            "500/500 [==============================] - 17s 35ms/step - loss: 0.3070 - accuracy: 0.9005 - val_loss: 0.5647 - val_accuracy: 0.8304\n",
            "Epoch 85/100\n",
            "500/500 [==============================] - 18s 35ms/step - loss: 0.2997 - accuracy: 0.9025 - val_loss: 0.5826 - val_accuracy: 0.8348\n",
            "Epoch 86/100\n",
            "500/500 [==============================] - 17s 35ms/step - loss: 0.3070 - accuracy: 0.9011 - val_loss: 0.5710 - val_accuracy: 0.8265\n",
            "Epoch 87/100\n",
            "500/500 [==============================] - 17s 34ms/step - loss: 0.2979 - accuracy: 0.9027 - val_loss: 0.5847 - val_accuracy: 0.8261\n",
            "Epoch 88/100\n",
            "500/500 [==============================] - 17s 35ms/step - loss: 0.2922 - accuracy: 0.9039 - val_loss: 0.5776 - val_accuracy: 0.8277\n",
            "Epoch 89/100\n",
            "500/500 [==============================] - 17s 35ms/step - loss: 0.2897 - accuracy: 0.9062 - val_loss: 0.5564 - val_accuracy: 0.8335\n",
            "Epoch 90/100\n",
            "500/500 [==============================] - 17s 35ms/step - loss: 0.2946 - accuracy: 0.9043 - val_loss: 0.5562 - val_accuracy: 0.8434\n",
            "Epoch 91/100\n",
            "500/500 [==============================] - 17s 35ms/step - loss: 0.3005 - accuracy: 0.9034 - val_loss: 0.5486 - val_accuracy: 0.8327\n",
            "Epoch 92/100\n",
            "500/500 [==============================] - 17s 34ms/step - loss: 0.3008 - accuracy: 0.9016 - val_loss: 0.5946 - val_accuracy: 0.8193\n",
            "Epoch 93/100\n",
            "500/500 [==============================] - 17s 34ms/step - loss: 0.3074 - accuracy: 0.9011 - val_loss: 0.5714 - val_accuracy: 0.8267\n",
            "Epoch 94/100\n",
            "500/500 [==============================] - 17s 35ms/step - loss: 0.2959 - accuracy: 0.9034 - val_loss: 0.5685 - val_accuracy: 0.8339\n",
            "Epoch 95/100\n",
            "500/500 [==============================] - 17s 35ms/step - loss: 0.2974 - accuracy: 0.9035 - val_loss: 0.5743 - val_accuracy: 0.8304\n",
            "Epoch 96/100\n",
            "500/500 [==============================] - 17s 34ms/step - loss: 0.2989 - accuracy: 0.9044 - val_loss: 0.5637 - val_accuracy: 0.8363\n",
            "Epoch 97/100\n",
            "500/500 [==============================] - 17s 35ms/step - loss: 0.2941 - accuracy: 0.9054 - val_loss: 0.5472 - val_accuracy: 0.8338\n",
            "Epoch 98/100\n",
            "500/500 [==============================] - 18s 36ms/step - loss: 0.2895 - accuracy: 0.9092 - val_loss: 0.5813 - val_accuracy: 0.8353\n",
            "Epoch 99/100\n",
            "500/500 [==============================] - 17s 35ms/step - loss: 0.2864 - accuracy: 0.9074 - val_loss: 0.5978 - val_accuracy: 0.8229\n",
            "Epoch 100/100\n",
            "500/500 [==============================] - 17s 35ms/step - loss: 0.2854 - accuracy: 0.9081 - val_loss: 0.5487 - val_accuracy: 0.8419\n"
          ]
        }
      ]
    },
    {
      "cell_type": "code",
      "metadata": {
        "colab": {
          "base_uri": "https://localhost:8080/"
        },
        "id": "ABw3lLw9fVD1",
        "outputId": "9c7708c6-830d-479f-eaee-4267720afb03"
      },
      "source": [
        "test_loss, test_acc = model.evaluate(test_images,  test_labels, verbose=2)\n",
        "print(f\"test_accuaracy is {test_acc:.3}\")\n",
        "print(f\"test_loss is {test_loss:.3}\")"
      ],
      "execution_count": null,
      "outputs": [
        {
          "output_type": "stream",
          "name": "stderr",
          "text": [
            "/usr/local/lib/python3.7/dist-packages/tensorflow/python/util/dispatch.py:1096: UserWarning: \"`categorical_crossentropy` received `from_logits=True`, but the `output` argument was produced by a sigmoid or softmax activation and thus does not represent logits. Was this intended?\"\n",
            "  return dispatch_target(*args, **kwargs)\n"
          ]
        },
        {
          "output_type": "stream",
          "name": "stdout",
          "text": [
            "313/313 - 3s - loss: 0.5487 - accuracy: 0.8419 - 3s/epoch - 8ms/step\n",
            "test_accuaracy is 0.842\n",
            "test_loss is 0.549\n"
          ]
        }
      ]
    },
    {
      "cell_type": "code",
      "metadata": {
        "colab": {
          "base_uri": "https://localhost:8080/",
          "height": 295
        },
        "id": "QyLFatuZn8HO",
        "outputId": "42ced7bd-b4d1-4b6e-f8f8-396763aacbc7"
      },
      "source": [
        "# Draw plot of accuracy\n",
        "\n",
        "import matplotlib.pyplot as plt\n",
        "\n",
        "plt.plot(history.history['accuracy'])\n",
        "plt.plot(history.history['val_accuracy'])\n",
        "plt.title('model accuracy')\n",
        "plt.ylabel('accuracy')\n",
        "plt.xlabel('epoch')\n",
        "plt.legend(['training', 'validation'], loc='best')\n",
        "plt.show()"
      ],
      "execution_count": null,
      "outputs": [
        {
          "output_type": "display_data",
          "data": {
            "image/png": "[encoded data removed]",
            "text/plain": [
              "<Figure size 432x288 with 1 Axes>"
            ]
          },
          "metadata": {
            "needs_background": "light"
          }
        }
      ]
    },
    {
      "cell_type": "code",
      "metadata": {
        "colab": {
          "base_uri": "https://localhost:8080/",
          "height": 295
        },
        "id": "CFCUkJ-woA6T",
        "outputId": "09597ecb-dec0-4d9d-cded-b7995c63fa4f"
      },
      "source": [
        "#Draw plot of loss\n",
        "\n",
        "plt.plot(history.history['loss'])\n",
        "plt.plot(history.history['val_loss'])\n",
        "plt.title('model loss')\n",
        "plt.ylabel('loss')\n",
        "plt.xlabel('epoch')\n",
        "plt.legend(['training', 'validation'], loc='best')\n",
        "plt.show()"
      ],
      "execution_count": null,
      "outputs": [
        {
          "output_type": "display_data",
          "data": {
            "image/png": "[encoded data removed]",
            "text/plain": [
              "<Figure size 432x288 with 1 Axes>"
            ]
          },
          "metadata": {
            "needs_background": "light"
          }
        }
      ]
    }
  ]
}