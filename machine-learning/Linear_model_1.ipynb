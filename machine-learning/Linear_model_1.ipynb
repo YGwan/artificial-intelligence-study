{
  "nbformat": 4,
  "nbformat_minor": 0,
  "metadata": {
    "colab": {
      "name": "Task1_I_Linearmodels.ipynb",
      "provenance": [],
      "collapsed_sections": [],
      "machine_shape": "hm"
    },
    "kernelspec": {
      "name": "python3",
      "display_name": "Python 3"
    },
    "language_info": {
      "name": "python"
    }
  },
  "cells": [
    {
      "cell_type": "markdown",
      "metadata": {
        "id": "5wh8epeoM7K3"
      },
      "source": [
        "# Task 1-I : Linear Models\n",
        "\n",
        "* We will learn linear regression"
      ]
    },
    {
      "cell_type": "code",
      "metadata": {
        "id": "CV9BxAscOIPc",
        "colab": {
          "base_uri": "https://localhost:8080/"
        },
        "outputId": "27317903-e73d-48cf-cedb-76f440c869b6"
      },
      "source": [
        "###################\n",
        "## Run this cell ##\n",
        "###################\n",
        "import pandas as pd\n",
        "from sklearn.datasets import load_boston\n",
        "\n",
        "boston = load_boston()\n",
        "\n",
        "df = pd.DataFrame(boston.data, columns=boston.feature_names)\n",
        "df['MEDV'] = boston.target\n",
        "print(\"1 row is not about one house but one town \")\n",
        "print(boston.DESCR)"
      ],
      "execution_count": 1,
      "outputs": [
        {
          "output_type": "stream",
          "name": "stdout",
          "text": [
            "1 row is not about one house but one town \n",
            ".. _boston_dataset:\n",
            "\n",
            "Boston house prices dataset\n",
            "---------------------------\n",
            "\n",
            "**Data Set Characteristics:**  \n",
            "\n",
            "    :Number of Instances: 506 \n",
            "\n",
            "    :Number of Attributes: 13 numeric/categorical predictive. Median Value (attribute 14) is usually the target.\n",
            "\n",
            "    :Attribute Information (in order):\n",
            "        - CRIM     per capita crime rate by town\n",
            "        - ZN       proportion of residential land zoned for lots over 25,000 sq.ft.\n",
            "        - INDUS    proportion of non-retail business acres per town\n",
            "        - CHAS     Charles River dummy variable (= 1 if tract bounds river; 0 otherwise)\n",
            "        - NOX      nitric oxides concentration (parts per 10 million)\n",
            "        - RM       average number of rooms per dwelling\n",
            "        - AGE      proportion of owner-occupied units built prior to 1940\n",
            "        - DIS      weighted distances to five Boston employment centres\n",
            "        - RAD      index of accessibility to radial highways\n",
            "        - TAX      full-value property-tax rate per $10,000\n",
            "        - PTRATIO  pupil-teacher ratio by town\n",
            "        - B        1000(Bk - 0.63)^2 where Bk is the proportion of blacks by town\n",
            "        - LSTAT    % lower status of the population\n",
            "        - MEDV     Median value of owner-occupied homes in $1000's\n",
            "\n",
            "    :Missing Attribute Values: None\n",
            "\n",
            "    :Creator: Harrison, D. and Rubinfeld, D.L.\n",
            "\n",
            "This is a copy of UCI ML housing dataset.\n",
            "https://archive.ics.uci.edu/ml/machine-learning-databases/housing/\n",
            "\n",
            "\n",
            "This dataset was taken from the StatLib library which is maintained at Carnegie Mellon University.\n",
            "\n",
            "The Boston house-price data of Harrison, D. and Rubinfeld, D.L. 'Hedonic\n",
            "prices and the demand for clean air', J. Environ. Economics & Management,\n",
            "vol.5, 81-102, 1978.   Used in Belsley, Kuh & Welsch, 'Regression diagnostics\n",
            "...', Wiley, 1980.   N.B. Various transformations are used in the table on\n",
            "pages 244-261 of the latter.\n",
            "\n",
            "The Boston house-price data has been used in many machine learning papers that address regression\n",
            "problems.   \n",
            "     \n",
            ".. topic:: References\n",
            "\n",
            "   - Belsley, Kuh & Welsch, 'Regression diagnostics: Identifying Influential Data and Sources of Collinearity', Wiley, 1980. 244-261.\n",
            "   - Quinlan,R. (1993). Combining Instance-Based and Model-Based Learning. In Proceedings on the Tenth International Conference of Machine Learning, 236-243, University of Massachusetts, Amherst. Morgan Kaufmann.\n",
            "\n"
          ]
        }
      ]
    },
    {
      "cell_type": "code",
      "metadata": {
        "colab": {
          "base_uri": "https://localhost:8080/"
        },
        "id": "fyFw346jv2Hb",
        "outputId": "a2fbdedf-a63c-4ca1-a740-ffb021ef56bb"
      },
      "source": [
        "df['MEDV']"
      ],
      "execution_count": 2,
      "outputs": [
        {
          "output_type": "execute_result",
          "data": {
            "text/plain": [
              "0      24.0\n",
              "1      21.6\n",
              "2      34.7\n",
              "3      33.4\n",
              "4      36.2\n",
              "       ... \n",
              "501    22.4\n",
              "502    20.6\n",
              "503    23.9\n",
              "504    22.0\n",
              "505    11.9\n",
              "Name: MEDV, Length: 506, dtype: float64"
            ]
          },
          "metadata": {},
          "execution_count": 2
        }
      ]
    },
    {
      "cell_type": "markdown",
      "metadata": {
        "id": "ysdKMutyO8Mi"
      },
      "source": [
        "# Q1. Split the df into training set & test set\n",
        "\n",
        "1. x : all columns in df except 'MEDV'\n",
        "2. y : the column 'MEDV' in df (df['MEDV'])\n",
        "3. variable names :\n",
        "    * x_train, y_train\n",
        "    * x_test, y_test\n",
        "4. train : test = 8 : 2\n",
        "5. randomstate : 2021\n",
        "\n",
        "Question : Why we need to prepare test set?\n",
        "\n",
        "**Your Answer :**"
      ]
    },
    {
      "cell_type": "code",
      "metadata": {
        "id": "Jq7WBOFTQK7j"
      },
      "source": [
        "#################################################\n",
        "## This cell will not be provided, after Task1 ##\n",
        "#################################################\n",
        "\n",
        "from sklearn.model_selection import train_test_split\n",
        "\n",
        "x_train, x_test, y_train, y_test = train_test_split(df.drop(['MEDV'], axis=1), df['MEDV'],\n",
        "                                                    test_size=0.2, random_state=2021 )\n"
      ],
      "execution_count": 3,
      "outputs": []
    },
    {
      "cell_type": "code",
      "metadata": {
        "colab": {
          "base_uri": "https://localhost:8080/",
          "height": 439
        },
        "id": "JkDZOnza9u8H",
        "outputId": "2211255d-297c-4bc1-b08c-d64105a4d55f"
      },
      "source": [
        "df"
      ],
      "execution_count": 4,
      "outputs": [
        {
          "output_type": "execute_result",
          "data": {
            "text/html": [
              "<div>\n",
              "<style scoped>\n",
              "    .dataframe tbody tr th:only-of-type {\n",
              "        vertical-align: middle;\n",
              "    }\n",
              "\n",
              "    .dataframe tbody tr th {\n",
              "        vertical-align: top;\n",
              "    }\n",
              "\n",
              "    .dataframe thead th {\n",
              "        text-align: right;\n",
              "    }\n",
              "</style>\n",
              "<table border=\"1\" class=\"dataframe\">\n",
              "  <thead>\n",
              "    <tr style=\"text-align: right;\">\n",
              "      <th></th>\n",
              "      <th>CRIM</th>\n",
              "      <th>ZN</th>\n",
              "      <th>INDUS</th>\n",
              "      <th>CHAS</th>\n",
              "      <th>NOX</th>\n",
              "      <th>RM</th>\n",
              "      <th>AGE</th>\n",
              "      <th>DIS</th>\n",
              "      <th>RAD</th>\n",
              "      <th>TAX</th>\n",
              "      <th>PTRATIO</th>\n",
              "      <th>B</th>\n",
              "      <th>LSTAT</th>\n",
              "      <th>MEDV</th>\n",
              "    </tr>\n",
              "  </thead>\n",
              "  <tbody>\n",
              "    <tr>\n",
              "      <th>0</th>\n",
              "      <td>0.00632</td>\n",
              "      <td>18.0</td>\n",
              "      <td>2.31</td>\n",
              "      <td>0.0</td>\n",
              "      <td>0.538</td>\n",
              "      <td>6.575</td>\n",
              "      <td>65.2</td>\n",
              "      <td>4.0900</td>\n",
              "      <td>1.0</td>\n",
              "      <td>296.0</td>\n",
              "      <td>15.3</td>\n",
              "      <td>396.90</td>\n",
              "      <td>4.98</td>\n",
              "      <td>24.0</td>\n",
              "    </tr>\n",
              "    <tr>\n",
              "      <th>1</th>\n",
              "      <td>0.02731</td>\n",
              "      <td>0.0</td>\n",
              "      <td>7.07</td>\n",
              "      <td>0.0</td>\n",
              "      <td>0.469</td>\n",
              "      <td>6.421</td>\n",
              "      <td>78.9</td>\n",
              "      <td>4.9671</td>\n",
              "      <td>2.0</td>\n",
              "      <td>242.0</td>\n",
              "      <td>17.8</td>\n",
              "      <td>396.90</td>\n",
              "      <td>9.14</td>\n",
              "      <td>21.6</td>\n",
              "    </tr>\n",
              "    <tr>\n",
              "      <th>2</th>\n",
              "      <td>0.02729</td>\n",
              "      <td>0.0</td>\n",
              "      <td>7.07</td>\n",
              "      <td>0.0</td>\n",
              "      <td>0.469</td>\n",
              "      <td>7.185</td>\n",
              "      <td>61.1</td>\n",
              "      <td>4.9671</td>\n",
              "      <td>2.0</td>\n",
              "      <td>242.0</td>\n",
              "      <td>17.8</td>\n",
              "      <td>392.83</td>\n",
              "      <td>4.03</td>\n",
              "      <td>34.7</td>\n",
              "    </tr>\n",
              "    <tr>\n",
              "      <th>3</th>\n",
              "      <td>0.03237</td>\n",
              "      <td>0.0</td>\n",
              "      <td>2.18</td>\n",
              "      <td>0.0</td>\n",
              "      <td>0.458</td>\n",
              "      <td>6.998</td>\n",
              "      <td>45.8</td>\n",
              "      <td>6.0622</td>\n",
              "      <td>3.0</td>\n",
              "      <td>222.0</td>\n",
              "      <td>18.7</td>\n",
              "      <td>394.63</td>\n",
              "      <td>2.94</td>\n",
              "      <td>33.4</td>\n",
              "    </tr>\n",
              "    <tr>\n",
              "      <th>4</th>\n",
              "      <td>0.06905</td>\n",
              "      <td>0.0</td>\n",
              "      <td>2.18</td>\n",
              "      <td>0.0</td>\n",
              "      <td>0.458</td>\n",
              "      <td>7.147</td>\n",
              "      <td>54.2</td>\n",
              "      <td>6.0622</td>\n",
              "      <td>3.0</td>\n",
              "      <td>222.0</td>\n",
              "      <td>18.7</td>\n",
              "      <td>396.90</td>\n",
              "      <td>5.33</td>\n",
              "      <td>36.2</td>\n",
              "    </tr>\n",
              "    <tr>\n",
              "      <th>...</th>\n",
              "      <td>...</td>\n",
              "      <td>...</td>\n",
              "      <td>...</td>\n",
              "      <td>...</td>\n",
              "      <td>...</td>\n",
              "      <td>...</td>\n",
              "      <td>...</td>\n",
              "      <td>...</td>\n",
              "      <td>...</td>\n",
              "      <td>...</td>\n",
              "      <td>...</td>\n",
              "      <td>...</td>\n",
              "      <td>...</td>\n",
              "      <td>...</td>\n",
              "    </tr>\n",
              "    <tr>\n",
              "      <th>501</th>\n",
              "      <td>0.06263</td>\n",
              "      <td>0.0</td>\n",
              "      <td>11.93</td>\n",
              "      <td>0.0</td>\n",
              "      <td>0.573</td>\n",
              "      <td>6.593</td>\n",
              "      <td>69.1</td>\n",
              "      <td>2.4786</td>\n",
              "      <td>1.0</td>\n",
              "      <td>273.0</td>\n",
              "      <td>21.0</td>\n",
              "      <td>391.99</td>\n",
              "      <td>9.67</td>\n",
              "      <td>22.4</td>\n",
              "    </tr>\n",
              "    <tr>\n",
              "      <th>502</th>\n",
              "      <td>0.04527</td>\n",
              "      <td>0.0</td>\n",
              "      <td>11.93</td>\n",
              "      <td>0.0</td>\n",
              "      <td>0.573</td>\n",
              "      <td>6.120</td>\n",
              "      <td>76.7</td>\n",
              "      <td>2.2875</td>\n",
              "      <td>1.0</td>\n",
              "      <td>273.0</td>\n",
              "      <td>21.0</td>\n",
              "      <td>396.90</td>\n",
              "      <td>9.08</td>\n",
              "      <td>20.6</td>\n",
              "    </tr>\n",
              "    <tr>\n",
              "      <th>503</th>\n",
              "      <td>0.06076</td>\n",
              "      <td>0.0</td>\n",
              "      <td>11.93</td>\n",
              "      <td>0.0</td>\n",
              "      <td>0.573</td>\n",
              "      <td>6.976</td>\n",
              "      <td>91.0</td>\n",
              "      <td>2.1675</td>\n",
              "      <td>1.0</td>\n",
              "      <td>273.0</td>\n",
              "      <td>21.0</td>\n",
              "      <td>396.90</td>\n",
              "      <td>5.64</td>\n",
              "      <td>23.9</td>\n",
              "    </tr>\n",
              "    <tr>\n",
              "      <th>504</th>\n",
              "      <td>0.10959</td>\n",
              "      <td>0.0</td>\n",
              "      <td>11.93</td>\n",
              "      <td>0.0</td>\n",
              "      <td>0.573</td>\n",
              "      <td>6.794</td>\n",
              "      <td>89.3</td>\n",
              "      <td>2.3889</td>\n",
              "      <td>1.0</td>\n",
              "      <td>273.0</td>\n",
              "      <td>21.0</td>\n",
              "      <td>393.45</td>\n",
              "      <td>6.48</td>\n",
              "      <td>22.0</td>\n",
              "    </tr>\n",
              "    <tr>\n",
              "      <th>505</th>\n",
              "      <td>0.04741</td>\n",
              "      <td>0.0</td>\n",
              "      <td>11.93</td>\n",
              "      <td>0.0</td>\n",
              "      <td>0.573</td>\n",
              "      <td>6.030</td>\n",
              "      <td>80.8</td>\n",
              "      <td>2.5050</td>\n",
              "      <td>1.0</td>\n",
              "      <td>273.0</td>\n",
              "      <td>21.0</td>\n",
              "      <td>396.90</td>\n",
              "      <td>7.88</td>\n",
              "      <td>11.9</td>\n",
              "    </tr>\n",
              "  </tbody>\n",
              "</table>\n",
              "<p>506 rows × 14 columns</p>\n",
              "</div>"
            ],
            "text/plain": [
              "        CRIM    ZN  INDUS  CHAS    NOX  ...    TAX  PTRATIO       B  LSTAT  MEDV\n",
              "0    0.00632  18.0   2.31   0.0  0.538  ...  296.0     15.3  396.90   4.98  24.0\n",
              "1    0.02731   0.0   7.07   0.0  0.469  ...  242.0     17.8  396.90   9.14  21.6\n",
              "2    0.02729   0.0   7.07   0.0  0.469  ...  242.0     17.8  392.83   4.03  34.7\n",
              "3    0.03237   0.0   2.18   0.0  0.458  ...  222.0     18.7  394.63   2.94  33.4\n",
              "4    0.06905   0.0   2.18   0.0  0.458  ...  222.0     18.7  396.90   5.33  36.2\n",
              "..       ...   ...    ...   ...    ...  ...    ...      ...     ...    ...   ...\n",
              "501  0.06263   0.0  11.93   0.0  0.573  ...  273.0     21.0  391.99   9.67  22.4\n",
              "502  0.04527   0.0  11.93   0.0  0.573  ...  273.0     21.0  396.90   9.08  20.6\n",
              "503  0.06076   0.0  11.93   0.0  0.573  ...  273.0     21.0  396.90   5.64  23.9\n",
              "504  0.10959   0.0  11.93   0.0  0.573  ...  273.0     21.0  393.45   6.48  22.0\n",
              "505  0.04741   0.0  11.93   0.0  0.573  ...  273.0     21.0  396.90   7.88  11.9\n",
              "\n",
              "[506 rows x 14 columns]"
            ]
          },
          "metadata": {},
          "execution_count": 4
        }
      ]
    },
    {
      "cell_type": "markdown",
      "metadata": {
        "id": "98i6fFp7Rfhc"
      },
      "source": [
        "# Q2. Train linear regression model\n",
        "\n",
        "1. declare your model as lr"
      ]
    },
    {
      "cell_type": "code",
      "metadata": {
        "id": "xh2gY3PQSAep",
        "colab": {
          "base_uri": "https://localhost:8080/"
        },
        "outputId": "351e624d-43a8-42d5-c026-d3991e6aab55"
      },
      "source": [
        "####################\n",
        "## Your code here ##\n",
        "####################\n",
        "from sklearn.linear_model import LinearRegression\n",
        "lr =  LinearRegression()\n",
        "lr.fit(x_train, y_train)\n",
        "\n"
      ],
      "execution_count": 7,
      "outputs": [
        {
          "output_type": "execute_result",
          "data": {
            "text/plain": [
              "LinearRegression(copy_X=True, fit_intercept=True, n_jobs=None, normalize=False)"
            ]
          },
          "metadata": {},
          "execution_count": 7
        }
      ]
    },
    {
      "cell_type": "markdown",
      "metadata": {
        "id": "T69nC-7sTLij"
      },
      "source": [
        "# Q3. Make a prediction\n",
        "1. y_pred_train : prediction on training set\n",
        "2. y_pred_test : prediction on test set"
      ]
    },
    {
      "cell_type": "code",
      "metadata": {
        "id": "inHofowNTLSb"
      },
      "source": [
        "####################\n",
        "## Your code here ##\n",
        "####################\n",
        "\n",
        "y_pred_train = lr.predict(x_train)\n",
        "y_pred_test = lr.predict(x_test)\n"
      ],
      "execution_count": 8,
      "outputs": []
    },
    {
      "cell_type": "markdown",
      "metadata": {
        "id": "itJyUfohSQPL"
      },
      "source": [
        "# Q4. Evaluate the model on the training set & test set\n",
        "\n",
        "* Use RMSE\n",
        "\n",
        "Question : If rmse is 4, can we say the error of our model is $4? \n",
        "\n",
        "**Your Answer :**"
      ]
    },
    {
      "cell_type": "code",
      "metadata": {
        "id": "_gZPr4JHSyCh",
        "colab": {
          "base_uri": "https://localhost:8080/"
        },
        "outputId": "3ce179b5-d73a-4f87-a761-749d43d90fc6"
      },
      "source": [
        "####################\n",
        "## Your code here ##\n",
        "####################\n",
        "\n",
        "import numpy as np\n",
        "from sklearn.metrics import mean_squared_error\n",
        "\n",
        "def RMSE(y, pred):\n",
        "    return np.sqrt(np.mean(np.square(y-pred)))\n",
        "\n",
        "RMSE(y_train,y_pred_train),RMSE(y_test,y_pred_test)\n",
        "\n",
        "#rmse2 = mean_squared_error(y_test,y_pred_test)**0.5\n",
        "#print(rmse2)"
      ],
      "execution_count": 9,
      "outputs": [
        {
          "output_type": "execute_result",
          "data": {
            "text/plain": [
              "(4.6746677866213036, 4.826999984002403)"
            ]
          },
          "metadata": {},
          "execution_count": 9
        }
      ]
    },
    {
      "cell_type": "markdown",
      "metadata": {
        "id": "25RjfFBLVusx"
      },
      "source": [
        "# Q5. Complete the equation of the linear regression model\n",
        "\n",
        "\\begin{align}\n",
        "MEDV = \\beta_0 &\\ + \\beta_1*CRIM + \\beta_2*ZN + \\beta_3*INDUS + \\beta_4*CHAS \\\\\n",
        "&+ \\beta_5*NOX + \\beta_6*RM + \\beta_7*AGE + \\beta_8*DIS + \\beta_9*RAD \\\\\n",
        "& + \\beta_{10}*TAX + \\beta_{11}*PTRATIO + \\beta_{12}*B + \\beta_{13}*LSTAT\n",
        "\\end{align}\n",
        "\n",
        "* print $ \\beta_0 $ ~ $ \\beta_{13} $ with feature(column) name\n",
        "* example\n",
        "```\n",
        "beta_0 for intercept : 21\n",
        "beta_1 for CRIM : - 12\n",
        "~~~\n",
        "beta_13 for LSTAT : -5 \n",
        "```\n",
        "\n"
      ]
    },
    {
      "cell_type": "code",
      "metadata": {
        "id": "tSV6PPQMYWE6",
        "colab": {
          "base_uri": "https://localhost:8080/"
        },
        "outputId": "e796da8f-eb44-4b19-f1ba-36dff51b4147"
      },
      "source": [
        "####################\n",
        "## Your code here ##\n",
        "####################\n",
        "print(f\"beta_0 for intercept : {model.intercept_}\")\n",
        "\n",
        "name = df.drop(\"MEDV\",axis=1).columns\n",
        "for i in range(0,13):\n",
        "    print(f\"beta_ {i+1} for {name[i]} : {model.coef_[i]}\")\n"
      ],
      "execution_count": 12,
      "outputs": [
        {
          "output_type": "stream",
          "name": "stdout",
          "text": [
            "beta_0 for intercept : 35.074446443842035\n",
            "beta_ 1 for CRIM : -0.11455671812732975\n",
            "beta_ 2 for ZN : 0.05323427588138077\n",
            "beta_ 3 for INDUS : 0.003283317180316192\n",
            "beta_ 4 for CHAS : 3.508465036705998\n",
            "beta_ 5 for NOX : -18.13566684114273\n",
            "beta_ 6 for RM : 3.8252394730909423\n",
            "beta_ 7 for AGE : 0.011058249800921273\n",
            "beta_ 8 for DIS : -1.529967394769819\n",
            "beta_ 9 for RAD : 0.33922130811188655\n",
            "beta_ 10 for TAX : -0.011867833580858023\n",
            "beta_ 11 for PTRATIO : -0.8842149500225382\n",
            "beta_ 12 for B : 0.009528304243272022\n",
            "beta_ 13 for LSTAT : -0.57816905178081\n"
          ]
        }
      ]
    },
    {
      "cell_type": "markdown",
      "metadata": {
        "id": "-4bJr2pQJnce"
      },
      "source": [
        "# Q6. Analyze the effect of 'RM' (average average number of rooms per dwelling)\n",
        "\n",
        "**assumption1 : every other features are fixed.**<br>\n",
        "**assumption2 : use training set to anlayze.**\n",
        "1. How does the 'MEDV(house price)' change when 'RM' increases by 1 ?\n",
        "2. What is the change in the 'MEDV' due to the standard deviation(std) of 'RM'\n",
        "    * hint : beta_6 * std('RM')\n",
        "    * you can regard std('RM') as a mean variablity of 'RM' ( roughly )\n",
        "3. What is the change in the 'MEDV' due to the maximum change of 'RM'\n",
        "    * hint : maximum change of 'RM' = max('RM') - min('RM')\n"
      ]
    },
    {
      "cell_type": "code",
      "metadata": {
        "id": "bjGxFWy-MPiN",
        "colab": {
          "base_uri": "https://localhost:8080/"
        },
        "outputId": "b597eef8-8e11-4928-f44f-58317a1d4300"
      },
      "source": [
        "####################\n",
        "## Your code here ##\n",
        "####################\n",
        "model.fit(x_train,y_train)\n",
        "coef = model.coef_[name=='RM']\n",
        "print(coef)\n",
        "#df[\"RM\"].max(), df[\"RM\"].min(), df[\"RM\"].mean(), df[\"RM\"].std())\n",
        "\n",
        "std = df[\"RM\"].std()\n",
        "print(coef*std)\n",
        "max_change = df[\"RM\"].max() - df[\"RM\"].min()\n",
        "print(coef*max_change)\n",
        "\n"
      ],
      "execution_count": 14,
      "outputs": [
        {
          "output_type": "stream",
          "name": "stdout",
          "text": [
            "[3.82523947]\n",
            "[2.68767883]\n",
            "[19.96392481]\n"
          ]
        }
      ]
    },
    {
      "cell_type": "markdown",
      "metadata": {
        "id": "zg2aZa0xbf6D"
      },
      "source": [
        "# Q7. Analyze the effect of 'NOX' ( nitric oxides concentration (parts per 10 million) )\n",
        "\n",
        "**assumption1 : every other features are fixed.**<br>\n",
        "**assumption2 : use training set to anlayze.**\n",
        "1. How does the 'MEDV(house price)' change when 'NOX' increases by 1 ?\n",
        "2. Can 'NOX' change by 1 in the data?\n",
        "3. What is the change in the 'MEDV' due to the standard deviation(std) of 'NOX'\n",
        "4. What is the change in the 'MEDV' due to the maximum change of 'NOX'\n"
      ]
    },
    {
      "cell_type": "code",
      "metadata": {
        "id": "w2rhAVV-bf6D",
        "colab": {
          "base_uri": "https://localhost:8080/"
        },
        "outputId": "10fc1087-90af-4bea-e7a0-3872bda48d10"
      },
      "source": [
        "####################\n",
        "## Your code here ##\n",
        "####################\n",
        "std_nx = x_train['NOX'].std()\n",
        "max_ch_nx = x_train['NOX'].max() - x_train['NOX'].min()\n",
        "\n",
        "\n",
        "print(f\"A1 : {lr.coef_[4]:.3f}\")\n",
        "print(f\"A2 : No, maximum change(range) of NOX : {max_ch_nx}\")\n",
        "print(f\"A3 : {lr.coef_[4]*std_nx:.3f}\")\n",
        "print(f\"A4 : {lr.coef_[4]*max_ch_nx:.3f}\")\n",
        "\n"
      ],
      "execution_count": 16,
      "outputs": [
        {
          "output_type": "stream",
          "name": "stdout",
          "text": [
            "A1 : -18.136\n",
            "A2 : No, maximum change(range) of NOX : 0.486\n",
            "A3 : -2.168\n",
            "A4 : -8.814\n"
          ]
        }
      ]
    },
    {
      "cell_type": "markdown",
      "metadata": {
        "id": "kX_ldhpyc0EL"
      },
      "source": [
        "# Q8. Anlayze the intercept\n",
        "**assumption1 : use training set to anlayze.**\n",
        "1. What is the expected mean value of 'MEDV' in $ when all features(x) have no effect\n",
        "    * you can regard intercept as default value of 'MEDV' ( roughly )\n",
        "    * be careful : in $, not in $1,000\n",
        "2. Can all features(x) be zero in the data?\n",
        "    * Can all features(x) have no effect?\n"
      ]
    },
    {
      "cell_type": "code",
      "metadata": {
        "id": "wJGo2YjnfTQF",
        "colab": {
          "base_uri": "https://localhost:8080/"
        },
        "outputId": "e2ac45bb-1db2-43ce-86f6-605b8fd2be8c"
      },
      "source": [
        "####################\n",
        "## Your code here ##\n",
        "####################\n",
        "print(f\"A1 : ${lr.intercept_*1000:.3f}\" )\n",
        "\n",
        "print(f\"A2 : Impossible, just two features can be zero\")\n",
        "\n",
        "print(x_train.min())"
      ],
      "execution_count": 17,
      "outputs": [
        {
          "output_type": "stream",
          "name": "stdout",
          "text": [
            "A1 : $35074.446\n",
            "A2 : Impossible, just two features can be zero\n",
            "CRIM         0.00906\n",
            "ZN           0.00000\n",
            "INDUS        0.46000\n",
            "CHAS         0.00000\n",
            "NOX          0.38500\n",
            "RM           3.56100\n",
            "AGE          2.90000\n",
            "DIS          1.12960\n",
            "RAD          1.00000\n",
            "TAX        187.00000\n",
            "PTRATIO     12.60000\n",
            "B            0.32000\n",
            "LSTAT        1.92000\n",
            "dtype: float64\n"
          ]
        }
      ]
    },
    {
      "cell_type": "markdown",
      "metadata": {
        "id": "djgWpHA4tIEy"
      },
      "source": [
        ""
      ]
    }
  ]
}