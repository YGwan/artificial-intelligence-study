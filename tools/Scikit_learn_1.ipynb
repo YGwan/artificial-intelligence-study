{
  "nbformat": 4,
  "nbformat_minor": 0,
  "metadata": {
    "colab": {
      "name": "scikit_learn_1.ipynb",
      "provenance": [],
      "collapsed_sections": []
    },
    "kernelspec": {
      "name": "python3",
      "display_name": "Python 3"
    },
    "language_info": {
      "name": "python"
    }
  },
  "cells": [
    {
      "cell_type": "markdown",
      "metadata": {
        "id": "rrVFqxexHQlk"
      },
      "source": [
        "# Scikit learn 101\n",
        "\n",
        "\n",
        "* Be an user of AI first, then you can be an AI engineer or researcher.\n",
        "* First do it, then do it right, then do it better.\n",
        "\n",
        "**We're gonna 'Do ML' today.<br> after this lab, you will be a ML user**\n",
        "* step1 : distinguish the problem, classification or regression\n",
        "* step2 : Google it!\n",
        "    * [sklearn] [the name of algorithm] [regression or classification]\n",
        "    * example> sklearn randomforest regression\n",
        "* step3 : do ML !\n",
        "    1. import\n",
        "    2. declare\n",
        "    3. fit\n",
        "    4. predict\n"
      ]
    },
    {
      "cell_type": "code",
      "metadata": {
        "id": "uaVSVKEzEOtk",
        "colab": {
          "base_uri": "https://localhost:8080/"
        },
        "outputId": "9379f3ae-8a40-49ac-f05d-601c5d59be05"
      },
      "source": [
        "###################\n",
        "## Run this cell ##\n",
        "###################\n",
        "import pandas as pd\n",
        "from sklearn.datasets import load_boston\n",
        "\n",
        "boston = load_boston()\n",
        "\n",
        "df = pd.DataFrame(boston.data, columns=boston.feature_names)\n",
        "df['MEDV'] = boston.target\n",
        "\n",
        "print(\"Classification or Regression?\")\n",
        "print(\"-----------------------------\")\n",
        "print(boston.DESCR)"
      ],
      "execution_count": 1,
      "outputs": [
        {
          "output_type": "stream",
          "name": "stdout",
          "text": [
            "Classification or Regression?\n",
            "-----------------------------\n",
            ".. _boston_dataset:\n",
            "\n",
            "Boston house prices dataset\n",
            "---------------------------\n",
            "\n",
            "**Data Set Characteristics:**  \n",
            "\n",
            "    :Number of Instances: 506 \n",
            "\n",
            "    :Number of Attributes: 13 numeric/categorical predictive. Median Value (attribute 14) is usually the target.\n",
            "\n",
            "    :Attribute Information (in order):\n",
            "        - CRIM     per capita crime rate by town\n",
            "        - ZN       proportion of residential land zoned for lots over 25,000 sq.ft.\n",
            "        - INDUS    proportion of non-retail business acres per town\n",
            "        - CHAS     Charles River dummy variable (= 1 if tract bounds river; 0 otherwise)\n",
            "        - NOX      nitric oxides concentration (parts per 10 million)\n",
            "        - RM       average number of rooms per dwelling\n",
            "        - AGE      proportion of owner-occupied units built prior to 1940\n",
            "        - DIS      weighted distances to five Boston employment centres\n",
            "        - RAD      index of accessibility to radial highways\n",
            "        - TAX      full-value property-tax rate per $10,000\n",
            "        - PTRATIO  pupil-teacher ratio by town\n",
            "        - B        1000(Bk - 0.63)^2 where Bk is the proportion of blacks by town\n",
            "        - LSTAT    % lower status of the population\n",
            "        - MEDV     Median value of owner-occupied homes in $1000's\n",
            "\n",
            "    :Missing Attribute Values: None\n",
            "\n",
            "    :Creator: Harrison, D. and Rubinfeld, D.L.\n",
            "\n",
            "This is a copy of UCI ML housing dataset.\n",
            "https://archive.ics.uci.edu/ml/machine-learning-databases/housing/\n",
            "\n",
            "\n",
            "This dataset was taken from the StatLib library which is maintained at Carnegie Mellon University.\n",
            "\n",
            "The Boston house-price data of Harrison, D. and Rubinfeld, D.L. 'Hedonic\n",
            "prices and the demand for clean air', J. Environ. Economics & Management,\n",
            "vol.5, 81-102, 1978.   Used in Belsley, Kuh & Welsch, 'Regression diagnostics\n",
            "...', Wiley, 1980.   N.B. Various transformations are used in the table on\n",
            "pages 244-261 of the latter.\n",
            "\n",
            "The Boston house-price data has been used in many machine learning papers that address regression\n",
            "problems.   \n",
            "     \n",
            ".. topic:: References\n",
            "\n",
            "   - Belsley, Kuh & Welsch, 'Regression diagnostics: Identifying Influential Data and Sources of Collinearity', Wiley, 1980. 244-261.\n",
            "   - Quinlan,R. (1993). Combining Instance-Based and Model-Based Learning. In Proceedings on the Tenth International Conference of Machine Learning, 236-243, University of Massachusetts, Amherst. Morgan Kaufmann.\n",
            "\n"
          ]
        }
      ]
    },
    {
      "cell_type": "code",
      "metadata": {
        "colab": {
          "base_uri": "https://localhost:8080/"
        },
        "id": "Edz_0xToj2Lj",
        "outputId": "a18c239e-d123-4d65-efb0-a9068c924d65"
      },
      "source": [
        "boston.feature_names"
      ],
      "execution_count": 2,
      "outputs": [
        {
          "output_type": "execute_result",
          "data": {
            "text/plain": [
              "array(['CRIM', 'ZN', 'INDUS', 'CHAS', 'NOX', 'RM', 'AGE', 'DIS', 'RAD',\n",
              "       'TAX', 'PTRATIO', 'B', 'LSTAT'], dtype='<U7')"
            ]
          },
          "metadata": {},
          "execution_count": 2
        }
      ]
    },
    {
      "cell_type": "code",
      "metadata": {
        "id": "n3c2_naY-vZq",
        "colab": {
          "base_uri": "https://localhost:8080/"
        },
        "outputId": "6b66eb2c-8d49-487b-f85d-ecaf88869ab4"
      },
      "source": [
        "df['MEDV']"
      ],
      "execution_count": 3,
      "outputs": [
        {
          "output_type": "execute_result",
          "data": {
            "text/plain": [
              "0      24.0\n",
              "1      21.6\n",
              "2      34.7\n",
              "3      33.4\n",
              "4      36.2\n",
              "       ... \n",
              "501    22.4\n",
              "502    20.6\n",
              "503    23.9\n",
              "504    22.0\n",
              "505    11.9\n",
              "Name: MEDV, Length: 506, dtype: float64"
            ]
          },
          "metadata": {},
          "execution_count": 3
        }
      ]
    },
    {
      "cell_type": "code",
      "metadata": {
        "id": "iKxnCrShh220",
        "colab": {
          "base_uri": "https://localhost:8080/",
          "height": 306
        },
        "outputId": "77a0d8bf-abe3-4aec-ddb0-ca1dad0e9b4f"
      },
      "source": [
        "\"\"\"\n",
        "Training set for train model.\n",
        "Test set for final evaluation ( to estimate generalization error )\n",
        "\"\"\"\n",
        "from sklearn.model_selection import train_test_split\n",
        "\n",
        "x_train, x_test, y_train, y_test = train_test_split(df.drop(['MEDV'], axis=1), df['MEDV'],\n",
        "                                                    test_size=0.2, random_state=2021)\n",
        "\n",
        "print(y_train.head())\n",
        "x_train.head()"
      ],
      "execution_count": 5,
      "outputs": [
        {
          "output_type": "stream",
          "name": "stdout",
          "text": [
            "28     18.4\n",
            "498    21.2\n",
            "284    32.2\n",
            "414     7.0\n",
            "123    17.3\n",
            "Name: MEDV, dtype: float64\n"
          ]
        },
        {
          "output_type": "execute_result",
          "data": {
            "text/html": [
              "<div>\n",
              "<style scoped>\n",
              "    .dataframe tbody tr th:only-of-type {\n",
              "        vertical-align: middle;\n",
              "    }\n",
              "\n",
              "    .dataframe tbody tr th {\n",
              "        vertical-align: top;\n",
              "    }\n",
              "\n",
              "    .dataframe thead th {\n",
              "        text-align: right;\n",
              "    }\n",
              "</style>\n",
              "<table border=\"1\" class=\"dataframe\">\n",
              "  <thead>\n",
              "    <tr style=\"text-align: right;\">\n",
              "      <th></th>\n",
              "      <th>CRIM</th>\n",
              "      <th>ZN</th>\n",
              "      <th>INDUS</th>\n",
              "      <th>CHAS</th>\n",
              "      <th>NOX</th>\n",
              "      <th>RM</th>\n",
              "      <th>AGE</th>\n",
              "      <th>DIS</th>\n",
              "      <th>RAD</th>\n",
              "      <th>TAX</th>\n",
              "      <th>PTRATIO</th>\n",
              "      <th>B</th>\n",
              "      <th>LSTAT</th>\n",
              "    </tr>\n",
              "  </thead>\n",
              "  <tbody>\n",
              "    <tr>\n",
              "      <th>28</th>\n",
              "      <td>0.77299</td>\n",
              "      <td>0.0</td>\n",
              "      <td>8.14</td>\n",
              "      <td>0.0</td>\n",
              "      <td>0.538</td>\n",
              "      <td>6.495</td>\n",
              "      <td>94.4</td>\n",
              "      <td>4.4547</td>\n",
              "      <td>4.0</td>\n",
              "      <td>307.0</td>\n",
              "      <td>21.0</td>\n",
              "      <td>387.94</td>\n",
              "      <td>12.80</td>\n",
              "    </tr>\n",
              "    <tr>\n",
              "      <th>498</th>\n",
              "      <td>0.23912</td>\n",
              "      <td>0.0</td>\n",
              "      <td>9.69</td>\n",
              "      <td>0.0</td>\n",
              "      <td>0.585</td>\n",
              "      <td>6.019</td>\n",
              "      <td>65.3</td>\n",
              "      <td>2.4091</td>\n",
              "      <td>6.0</td>\n",
              "      <td>391.0</td>\n",
              "      <td>19.2</td>\n",
              "      <td>396.90</td>\n",
              "      <td>12.92</td>\n",
              "    </tr>\n",
              "    <tr>\n",
              "      <th>284</th>\n",
              "      <td>0.00906</td>\n",
              "      <td>90.0</td>\n",
              "      <td>2.97</td>\n",
              "      <td>0.0</td>\n",
              "      <td>0.400</td>\n",
              "      <td>7.088</td>\n",
              "      <td>20.8</td>\n",
              "      <td>7.3073</td>\n",
              "      <td>1.0</td>\n",
              "      <td>285.0</td>\n",
              "      <td>15.3</td>\n",
              "      <td>394.72</td>\n",
              "      <td>7.85</td>\n",
              "    </tr>\n",
              "    <tr>\n",
              "      <th>414</th>\n",
              "      <td>45.74610</td>\n",
              "      <td>0.0</td>\n",
              "      <td>18.10</td>\n",
              "      <td>0.0</td>\n",
              "      <td>0.693</td>\n",
              "      <td>4.519</td>\n",
              "      <td>100.0</td>\n",
              "      <td>1.6582</td>\n",
              "      <td>24.0</td>\n",
              "      <td>666.0</td>\n",
              "      <td>20.2</td>\n",
              "      <td>88.27</td>\n",
              "      <td>36.98</td>\n",
              "    </tr>\n",
              "    <tr>\n",
              "      <th>123</th>\n",
              "      <td>0.15038</td>\n",
              "      <td>0.0</td>\n",
              "      <td>25.65</td>\n",
              "      <td>0.0</td>\n",
              "      <td>0.581</td>\n",
              "      <td>5.856</td>\n",
              "      <td>97.0</td>\n",
              "      <td>1.9444</td>\n",
              "      <td>2.0</td>\n",
              "      <td>188.0</td>\n",
              "      <td>19.1</td>\n",
              "      <td>370.31</td>\n",
              "      <td>25.41</td>\n",
              "    </tr>\n",
              "  </tbody>\n",
              "</table>\n",
              "</div>"
            ],
            "text/plain": [
              "         CRIM    ZN  INDUS  CHAS    NOX  ...   RAD    TAX  PTRATIO       B  LSTAT\n",
              "28    0.77299   0.0   8.14   0.0  0.538  ...   4.0  307.0     21.0  387.94  12.80\n",
              "498   0.23912   0.0   9.69   0.0  0.585  ...   6.0  391.0     19.2  396.90  12.92\n",
              "284   0.00906  90.0   2.97   0.0  0.400  ...   1.0  285.0     15.3  394.72   7.85\n",
              "414  45.74610   0.0  18.10   0.0  0.693  ...  24.0  666.0     20.2   88.27  36.98\n",
              "123   0.15038   0.0  25.65   0.0  0.581  ...   2.0  188.0     19.1  370.31  25.41\n",
              "\n",
              "[5 rows x 13 columns]"
            ]
          },
          "metadata": {},
          "execution_count": 5
        }
      ]
    },
    {
      "cell_type": "markdown",
      "metadata": {
        "id": "gowD3Pl6iZCj"
      },
      "source": [
        "# Example exercise"
      ]
    },
    {
      "cell_type": "code",
      "metadata": {
        "id": "vJxPdHvAc1jU"
      },
      "source": [
        "# 1. Import what model you want.\n",
        "from sklearn.linear_model import LinearRegression # after write this code, do ctrl+enter \n",
        "\n",
        "\n",
        "# 2. Declare your model.\n",
        "lr = LinearRegression()\n",
        "\n",
        "# 3. Fit your model.\n",
        "lr.fit(x_train, y_train)\n",
        "\n",
        "# 4. predict using your fitted model.\n",
        "y_pred = lr.predict(x_test)\n"
      ],
      "execution_count": 7,
      "outputs": []
    },
    {
      "cell_type": "code",
      "metadata": {
        "colab": {
          "base_uri": "https://localhost:8080/"
        },
        "id": "OF7Yd8iwkTpG",
        "outputId": "92aa8cf8-0de8-4609-a777-a6f6ea8d6adf"
      },
      "source": [
        "lr.score(x_train,y_train)"
      ],
      "execution_count": 9,
      "outputs": [
        {
          "output_type": "execute_result",
          "data": {
            "text/plain": [
              "0.7561240805539942"
            ]
          },
          "metadata": {},
          "execution_count": 9
        }
      ]
    },
    {
      "cell_type": "code",
      "metadata": {
        "colab": {
          "base_uri": "https://localhost:8080/"
        },
        "id": "hratTg6FkRp-",
        "outputId": "c1fa36d7-5c92-42f2-c9d9-b68872faca7a"
      },
      "source": [
        "lr.score(x_test,y_test)"
      ],
      "execution_count": 8,
      "outputs": [
        {
          "output_type": "execute_result",
          "data": {
            "text/plain": [
              "0.6352336167833779"
            ]
          },
          "metadata": {},
          "execution_count": 8
        }
      ]
    },
    {
      "cell_type": "markdown",
      "metadata": {
        "id": "wmHvcxkwj-8M"
      },
      "source": [
        "# Exercise 1 : Train KNN model for this problem, and make prediction using test set."
      ]
    },
    {
      "cell_type": "code",
      "metadata": {
        "id": "3qmAR8eikKhK"
      },
      "source": [
        "####################\n",
        "## Your code here ##\n",
        "####################\n",
        "\n",
        "# 1. Import what model you want.\n",
        "from sklearn.neighbors import KNeighborsRegressor\n",
        "\n",
        "# 2. Declare your model.\n",
        "knr = KNeighborsRegressor()\n",
        "\n",
        "# 3. Fit your model.\n",
        "knr.fit(x_train, y_train)\n",
        "\n",
        "# 4. predict using your fitted model.\n",
        "y_pred = knr.predict(x_train)\n",
        "\n"
      ],
      "execution_count": 12,
      "outputs": []
    },
    {
      "cell_type": "markdown",
      "metadata": {
        "id": "aO23PmIrkvil"
      },
      "source": [
        "# Exercise 2 : Train decision tree for this problem, and make prediction using test set."
      ]
    },
    {
      "cell_type": "code",
      "metadata": {
        "id": "nOFyL-CVkvim"
      },
      "source": [
        "####################\n",
        "## Your code here ##\n",
        "####################\n",
        "\n",
        "# 1. Import what model you want.\n",
        "from sklearn.tree import DecisionTreeRegressor\n",
        "\n",
        "# 2. Declare your model.\n",
        "\n",
        "dtr = DecisionTreeRegressor()\n",
        "\n",
        "# 3. Fit your model.\n",
        "\n",
        "dtr.fit(x_train, y_train)\n",
        "\n",
        "# 4. predict using your fitted model.\n",
        "y_pred = dtr.predict(x_train)\n"
      ],
      "execution_count": 13,
      "outputs": []
    },
    {
      "cell_type": "markdown",
      "metadata": {
        "id": "KhhUg6-hlAVk"
      },
      "source": [
        "# Exercise 3 : Train support vector machine for this problem, and make prediction using test set.\n",
        "\n",
        "* **There could be various answers**\n",
        "* 'SVR' is recommended\n",
        "* What is the name of support vector machine class for classification in sklearn?"
      ]
    },
    {
      "cell_type": "code",
      "metadata": {
        "id": "I20vpRGOlAVl"
      },
      "source": [
        "####################\n",
        "## Your code here ##\n",
        "####################\n",
        "\n",
        "# 1. Import what model you want.\n",
        "from sklearn.svm import SVR\n",
        "\n",
        "# 2. Declare your model.\n",
        "\n",
        "svr = SVR()\n",
        "\n",
        "# 3. Fit your model.\n",
        "\n",
        "svr.fit(x_train, y_train)\n",
        "\n",
        "# 4. predict using your fitted model.\n",
        "\n",
        "y_pred = svr.predict(x_train)\n"
      ],
      "execution_count": null,
      "outputs": []
    },
    {
      "cell_type": "markdown",
      "metadata": {
        "id": "cqwAg9W3mke1"
      },
      "source": [
        "# Exercise 4 : Train gradient boosting model for this problem, and make prediction using test set."
      ]
    },
    {
      "cell_type": "code",
      "metadata": {
        "id": "76ryy121mke2"
      },
      "source": [
        "####################\n",
        "## Your code here ##\n",
        "####################\n",
        "\n",
        "# 1. Import what model you want.\n",
        "from sklearn.ensemble import GradientBoostingRegressor\n",
        "\n",
        "# 2. Declare your model.\n",
        "\n",
        "gbr = GradientBoostingRegressor()\n",
        "\n",
        "# 3. Fit your model.\n",
        "\n",
        "gbr.fit(x_train, y_train)\n",
        "\n",
        "# 4. predict using your fitted model.\n",
        "\n",
        "y_pred = gbr.predict(x_train)\n",
        "\n",
        "\n"
      ],
      "execution_count": null,
      "outputs": []
    },
    {
      "cell_type": "markdown",
      "metadata": {
        "id": "uCU4QubHkmGM"
      },
      "source": [
        "# This time, we'll use another dataset"
      ]
    },
    {
      "cell_type": "code",
      "metadata": {
        "id": "n8WNgieSnBF1",
        "colab": {
          "base_uri": "https://localhost:8080/"
        },
        "outputId": "c30b8692-af41-4a14-8160-17f69cfd0c41"
      },
      "source": [
        "###################\n",
        "## Run this cell ##\n",
        "###################\n",
        "import pandas as pd\n",
        "from sklearn.datasets import load_breast_cancer\n",
        "\n",
        "cancer = load_breast_cancer()\n",
        "\n",
        "df = pd.DataFrame(cancer.data, columns=cancer.feature_names)\n",
        "df['class'] = cancer.target\n",
        "\n",
        "print(\"Classification or Regression?\")\n",
        "print(\"-----------------------------\")\n",
        "print(cancer.target_names)\n",
        "print(\"-----------------------------\")\n",
        "print(cancer.DESCR)"
      ],
      "execution_count": null,
      "outputs": [
        {
          "output_type": "stream",
          "name": "stdout",
          "text": [
            "Classification or Regression?\n",
            "-----------------------------\n",
            "['malignant' 'benign']\n",
            "-----------------------------\n",
            ".. _breast_cancer_dataset:\n",
            "\n",
            "Breast cancer wisconsin (diagnostic) dataset\n",
            "--------------------------------------------\n",
            "\n",
            "**Data Set Characteristics:**\n",
            "\n",
            "    :Number of Instances: 569\n",
            "\n",
            "    :Number of Attributes: 30 numeric, predictive attributes and the class\n",
            "\n",
            "    :Attribute Information:\n",
            "        - radius (mean of distances from center to points on the perimeter)\n",
            "        - texture (standard deviation of gray-scale values)\n",
            "        - perimeter\n",
            "        - area\n",
            "        - smoothness (local variation in radius lengths)\n",
            "        - compactness (perimeter^2 / area - 1.0)\n",
            "        - concavity (severity of concave portions of the contour)\n",
            "        - concave points (number of concave portions of the contour)\n",
            "        - symmetry \n",
            "        - fractal dimension (\"coastline approximation\" - 1)\n",
            "\n",
            "        The mean, standard error, and \"worst\" or largest (mean of the three\n",
            "        largest values) of these features were computed for each image,\n",
            "        resulting in 30 features.  For instance, field 3 is Mean Radius, field\n",
            "        13 is Radius SE, field 23 is Worst Radius.\n",
            "\n",
            "        - class:\n",
            "                - WDBC-Malignant\n",
            "                - WDBC-Benign\n",
            "\n",
            "    :Summary Statistics:\n",
            "\n",
            "    ===================================== ====== ======\n",
            "                                           Min    Max\n",
            "    ===================================== ====== ======\n",
            "    radius (mean):                        6.981  28.11\n",
            "    texture (mean):                       9.71   39.28\n",
            "    perimeter (mean):                     43.79  188.5\n",
            "    area (mean):                          143.5  2501.0\n",
            "    smoothness (mean):                    0.053  0.163\n",
            "    compactness (mean):                   0.019  0.345\n",
            "    concavity (mean):                     0.0    0.427\n",
            "    concave points (mean):                0.0    0.201\n",
            "    symmetry (mean):                      0.106  0.304\n",
            "    fractal dimension (mean):             0.05   0.097\n",
            "    radius (standard error):              0.112  2.873\n",
            "    texture (standard error):             0.36   4.885\n",
            "    perimeter (standard error):           0.757  21.98\n",
            "    area (standard error):                6.802  542.2\n",
            "    smoothness (standard error):          0.002  0.031\n",
            "    compactness (standard error):         0.002  0.135\n",
            "    concavity (standard error):           0.0    0.396\n",
            "    concave points (standard error):      0.0    0.053\n",
            "    symmetry (standard error):            0.008  0.079\n",
            "    fractal dimension (standard error):   0.001  0.03\n",
            "    radius (worst):                       7.93   36.04\n",
            "    texture (worst):                      12.02  49.54\n",
            "    perimeter (worst):                    50.41  251.2\n",
            "    area (worst):                         185.2  4254.0\n",
            "    smoothness (worst):                   0.071  0.223\n",
            "    compactness (worst):                  0.027  1.058\n",
            "    concavity (worst):                    0.0    1.252\n",
            "    concave points (worst):               0.0    0.291\n",
            "    symmetry (worst):                     0.156  0.664\n",
            "    fractal dimension (worst):            0.055  0.208\n",
            "    ===================================== ====== ======\n",
            "\n",
            "    :Missing Attribute Values: None\n",
            "\n",
            "    :Class Distribution: 212 - Malignant, 357 - Benign\n",
            "\n",
            "    :Creator:  Dr. William H. Wolberg, W. Nick Street, Olvi L. Mangasarian\n",
            "\n",
            "    :Donor: Nick Street\n",
            "\n",
            "    :Date: November, 1995\n",
            "\n",
            "This is a copy of UCI ML Breast Cancer Wisconsin (Diagnostic) datasets.\n",
            "https://goo.gl/U2Uwz2\n",
            "\n",
            "Features are computed from a digitized image of a fine needle\n",
            "aspirate (FNA) of a breast mass.  They describe\n",
            "characteristics of the cell nuclei present in the image.\n",
            "\n",
            "Separating plane described above was obtained using\n",
            "Multisurface Method-Tree (MSM-T) [K. P. Bennett, \"Decision Tree\n",
            "Construction Via Linear Programming.\" Proceedings of the 4th\n",
            "Midwest Artificial Intelligence and Cognitive Science Society,\n",
            "pp. 97-101, 1992], a classification method which uses linear\n",
            "programming to construct a decision tree.  Relevant features\n",
            "were selected using an exhaustive search in the space of 1-4\n",
            "features and 1-3 separating planes.\n",
            "\n",
            "The actual linear program used to obtain the separating plane\n",
            "in the 3-dimensional space is that described in:\n",
            "[K. P. Bennett and O. L. Mangasarian: \"Robust Linear\n",
            "Programming Discrimination of Two Linearly Inseparable Sets\",\n",
            "Optimization Methods and Software 1, 1992, 23-34].\n",
            "\n",
            "This database is also available through the UW CS ftp server:\n",
            "\n",
            "ftp ftp.cs.wisc.edu\n",
            "cd math-prog/cpo-dataset/machine-learn/WDBC/\n",
            "\n",
            ".. topic:: References\n",
            "\n",
            "   - W.N. Street, W.H. Wolberg and O.L. Mangasarian. Nuclear feature extraction \n",
            "     for breast tumor diagnosis. IS&T/SPIE 1993 International Symposium on \n",
            "     Electronic Imaging: Science and Technology, volume 1905, pages 861-870,\n",
            "     San Jose, CA, 1993.\n",
            "   - O.L. Mangasarian, W.N. Street and W.H. Wolberg. Breast cancer diagnosis and \n",
            "     prognosis via linear programming. Operations Research, 43(4), pages 570-577, \n",
            "     July-August 1995.\n",
            "   - W.H. Wolberg, W.N. Street, and O.L. Mangasarian. Machine learning techniques\n",
            "     to diagnose breast cancer from fine-needle aspirates. Cancer Letters 77 (1994) \n",
            "     163-171.\n"
          ]
        }
      ]
    },
    {
      "cell_type": "code",
      "metadata": {
        "colab": {
          "base_uri": "https://localhost:8080/"
        },
        "id": "69Uy1Hk4-ZPl",
        "outputId": "551445b0-6f4b-4c19-bd05-8a7224a17f27"
      },
      "source": [
        "df['class'].unique()"
      ],
      "execution_count": null,
      "outputs": [
        {
          "output_type": "execute_result",
          "data": {
            "text/plain": [
              "array([0, 1])"
            ]
          },
          "metadata": {},
          "execution_count": 12
        }
      ]
    },
    {
      "cell_type": "code",
      "metadata": {
        "id": "yHgWzzlonBF8",
        "colab": {
          "base_uri": "https://localhost:8080/",
          "height": 373
        },
        "outputId": "d306d287-e511-4373-93bb-31e4745acca2"
      },
      "source": [
        "\"\"\"\n",
        "Training set for train model.\n",
        "Test set for final evaluation ( to estimate generalization error )\n",
        "\"\"\"\n",
        "from sklearn.model_selection import train_test_split\n",
        "\n",
        "x_train, x_test, y_train, y_test = train_test_split(df.drop(['class'], axis=1), df['class'],\n",
        "                                                    test_size=0.2, random_state=2021)\n",
        "\n",
        "print(y_train.head())\n",
        "x_train.head()"
      ],
      "execution_count": null,
      "outputs": [
        {
          "output_type": "stream",
          "name": "stdout",
          "text": [
            "269    1\n",
            "51     1\n",
            "187    1\n",
            "28     0\n",
            "199    0\n",
            "Name: class, dtype: int64\n"
          ]
        },
        {
          "output_type": "execute_result",
          "data": {
            "text/html": [
              "<div>\n",
              "<style scoped>\n",
              "    .dataframe tbody tr th:only-of-type {\n",
              "        vertical-align: middle;\n",
              "    }\n",
              "\n",
              "    .dataframe tbody tr th {\n",
              "        vertical-align: top;\n",
              "    }\n",
              "\n",
              "    .dataframe thead th {\n",
              "        text-align: right;\n",
              "    }\n",
              "</style>\n",
              "<table border=\"1\" class=\"dataframe\">\n",
              "  <thead>\n",
              "    <tr style=\"text-align: right;\">\n",
              "      <th></th>\n",
              "      <th>mean radius</th>\n",
              "      <th>mean texture</th>\n",
              "      <th>mean perimeter</th>\n",
              "      <th>mean area</th>\n",
              "      <th>mean smoothness</th>\n",
              "      <th>mean compactness</th>\n",
              "      <th>mean concavity</th>\n",
              "      <th>mean concave points</th>\n",
              "      <th>mean symmetry</th>\n",
              "      <th>mean fractal dimension</th>\n",
              "      <th>radius error</th>\n",
              "      <th>texture error</th>\n",
              "      <th>perimeter error</th>\n",
              "      <th>area error</th>\n",
              "      <th>smoothness error</th>\n",
              "      <th>compactness error</th>\n",
              "      <th>concavity error</th>\n",
              "      <th>concave points error</th>\n",
              "      <th>symmetry error</th>\n",
              "      <th>fractal dimension error</th>\n",
              "      <th>worst radius</th>\n",
              "      <th>worst texture</th>\n",
              "      <th>worst perimeter</th>\n",
              "      <th>worst area</th>\n",
              "      <th>worst smoothness</th>\n",
              "      <th>worst compactness</th>\n",
              "      <th>worst concavity</th>\n",
              "      <th>worst concave points</th>\n",
              "      <th>worst symmetry</th>\n",
              "      <th>worst fractal dimension</th>\n",
              "    </tr>\n",
              "  </thead>\n",
              "  <tbody>\n",
              "    <tr>\n",
              "      <th>269</th>\n",
              "      <td>10.71</td>\n",
              "      <td>20.39</td>\n",
              "      <td>69.50</td>\n",
              "      <td>344.9</td>\n",
              "      <td>0.10820</td>\n",
              "      <td>0.12890</td>\n",
              "      <td>0.08448</td>\n",
              "      <td>0.02867</td>\n",
              "      <td>0.1668</td>\n",
              "      <td>0.06862</td>\n",
              "      <td>0.3198</td>\n",
              "      <td>1.4890</td>\n",
              "      <td>2.230</td>\n",
              "      <td>20.74</td>\n",
              "      <td>0.008902</td>\n",
              "      <td>0.047850</td>\n",
              "      <td>0.07339</td>\n",
              "      <td>0.017450</td>\n",
              "      <td>0.02728</td>\n",
              "      <td>0.007610</td>\n",
              "      <td>11.69</td>\n",
              "      <td>25.21</td>\n",
              "      <td>76.51</td>\n",
              "      <td>410.4</td>\n",
              "      <td>0.1335</td>\n",
              "      <td>0.2550</td>\n",
              "      <td>0.2534</td>\n",
              "      <td>0.08600</td>\n",
              "      <td>0.2605</td>\n",
              "      <td>0.08701</td>\n",
              "    </tr>\n",
              "    <tr>\n",
              "      <th>51</th>\n",
              "      <td>13.64</td>\n",
              "      <td>16.34</td>\n",
              "      <td>87.21</td>\n",
              "      <td>571.8</td>\n",
              "      <td>0.07685</td>\n",
              "      <td>0.06059</td>\n",
              "      <td>0.01857</td>\n",
              "      <td>0.01723</td>\n",
              "      <td>0.1353</td>\n",
              "      <td>0.05953</td>\n",
              "      <td>0.1872</td>\n",
              "      <td>0.9234</td>\n",
              "      <td>1.449</td>\n",
              "      <td>14.55</td>\n",
              "      <td>0.004477</td>\n",
              "      <td>0.011770</td>\n",
              "      <td>0.01079</td>\n",
              "      <td>0.007956</td>\n",
              "      <td>0.01325</td>\n",
              "      <td>0.002551</td>\n",
              "      <td>14.67</td>\n",
              "      <td>23.19</td>\n",
              "      <td>96.08</td>\n",
              "      <td>656.7</td>\n",
              "      <td>0.1089</td>\n",
              "      <td>0.1582</td>\n",
              "      <td>0.1050</td>\n",
              "      <td>0.08586</td>\n",
              "      <td>0.2346</td>\n",
              "      <td>0.08025</td>\n",
              "    </tr>\n",
              "    <tr>\n",
              "      <th>187</th>\n",
              "      <td>11.71</td>\n",
              "      <td>17.19</td>\n",
              "      <td>74.68</td>\n",
              "      <td>420.3</td>\n",
              "      <td>0.09774</td>\n",
              "      <td>0.06141</td>\n",
              "      <td>0.03809</td>\n",
              "      <td>0.03239</td>\n",
              "      <td>0.1516</td>\n",
              "      <td>0.06095</td>\n",
              "      <td>0.2451</td>\n",
              "      <td>0.7655</td>\n",
              "      <td>1.742</td>\n",
              "      <td>17.86</td>\n",
              "      <td>0.006905</td>\n",
              "      <td>0.008704</td>\n",
              "      <td>0.01978</td>\n",
              "      <td>0.011850</td>\n",
              "      <td>0.01897</td>\n",
              "      <td>0.001671</td>\n",
              "      <td>13.01</td>\n",
              "      <td>21.39</td>\n",
              "      <td>84.42</td>\n",
              "      <td>521.5</td>\n",
              "      <td>0.1323</td>\n",
              "      <td>0.1040</td>\n",
              "      <td>0.1521</td>\n",
              "      <td>0.10990</td>\n",
              "      <td>0.2572</td>\n",
              "      <td>0.07097</td>\n",
              "    </tr>\n",
              "    <tr>\n",
              "      <th>28</th>\n",
              "      <td>15.30</td>\n",
              "      <td>25.27</td>\n",
              "      <td>102.40</td>\n",
              "      <td>732.4</td>\n",
              "      <td>0.10820</td>\n",
              "      <td>0.16970</td>\n",
              "      <td>0.16830</td>\n",
              "      <td>0.08751</td>\n",
              "      <td>0.1926</td>\n",
              "      <td>0.06540</td>\n",
              "      <td>0.4390</td>\n",
              "      <td>1.0120</td>\n",
              "      <td>3.498</td>\n",
              "      <td>43.50</td>\n",
              "      <td>0.005233</td>\n",
              "      <td>0.030570</td>\n",
              "      <td>0.03576</td>\n",
              "      <td>0.010830</td>\n",
              "      <td>0.01768</td>\n",
              "      <td>0.002967</td>\n",
              "      <td>20.27</td>\n",
              "      <td>36.71</td>\n",
              "      <td>149.30</td>\n",
              "      <td>1269.0</td>\n",
              "      <td>0.1641</td>\n",
              "      <td>0.6110</td>\n",
              "      <td>0.6335</td>\n",
              "      <td>0.20240</td>\n",
              "      <td>0.4027</td>\n",
              "      <td>0.09876</td>\n",
              "    </tr>\n",
              "    <tr>\n",
              "      <th>199</th>\n",
              "      <td>14.45</td>\n",
              "      <td>20.22</td>\n",
              "      <td>94.49</td>\n",
              "      <td>642.7</td>\n",
              "      <td>0.09872</td>\n",
              "      <td>0.12060</td>\n",
              "      <td>0.11800</td>\n",
              "      <td>0.05980</td>\n",
              "      <td>0.1950</td>\n",
              "      <td>0.06466</td>\n",
              "      <td>0.2092</td>\n",
              "      <td>0.6509</td>\n",
              "      <td>1.446</td>\n",
              "      <td>19.42</td>\n",
              "      <td>0.004044</td>\n",
              "      <td>0.015970</td>\n",
              "      <td>0.02000</td>\n",
              "      <td>0.007303</td>\n",
              "      <td>0.01522</td>\n",
              "      <td>0.001976</td>\n",
              "      <td>18.33</td>\n",
              "      <td>30.12</td>\n",
              "      <td>117.90</td>\n",
              "      <td>1044.0</td>\n",
              "      <td>0.1552</td>\n",
              "      <td>0.4056</td>\n",
              "      <td>0.4967</td>\n",
              "      <td>0.18380</td>\n",
              "      <td>0.4753</td>\n",
              "      <td>0.10130</td>\n",
              "    </tr>\n",
              "  </tbody>\n",
              "</table>\n",
              "</div>"
            ],
            "text/plain": [
              "     mean radius  mean texture  ...  worst symmetry  worst fractal dimension\n",
              "269        10.71         20.39  ...          0.2605                  0.08701\n",
              "51         13.64         16.34  ...          0.2346                  0.08025\n",
              "187        11.71         17.19  ...          0.2572                  0.07097\n",
              "28         15.30         25.27  ...          0.4027                  0.09876\n",
              "199        14.45         20.22  ...          0.4753                  0.10130\n",
              "\n",
              "[5 rows x 30 columns]"
            ]
          },
          "metadata": {},
          "execution_count": 13
        }
      ]
    },
    {
      "cell_type": "markdown",
      "metadata": {
        "id": "VPgcsPLMFihw"
      },
      "source": [
        "# Exercise 5 : Train logistic regression for this problem, and make prediction using test set.\n",
        "\n",
        "**Note**\n",
        "* Actually, logistic regression is to estimate the probability of the class.\n",
        "* In this time, we just use logistic regression as a classifier.\n",
        "    - Sklearn do below automatically\n",
        "        - If probability >= 0.5 : 1 (class 1)\n",
        "        - else : 0 (class 0)\n",
        "* You can ignore the convergence warning"
      ]
    },
    {
      "cell_type": "code",
      "metadata": {
        "id": "VwVsQlYQFih2",
        "colab": {
          "base_uri": "https://localhost:8080/"
        },
        "outputId": "abcf064a-7bc1-446d-cdc6-fc388dfd541a"
      },
      "source": [
        "####################\n",
        "## Your code here ##\n",
        "####################\n",
        "\n",
        "# 1. Import what model you want.\n",
        "from sklearn.linear_model import LogisticRegression\n",
        "\n",
        "# 2. Declare your model.\n",
        "\n",
        "model = LogisticRegression()\n",
        "\n",
        "# 3. Fit your model.\n",
        "\n",
        "model.fit(x_train, y_train)\n",
        "\n",
        "# 4. predict using your fitted model.\n",
        "\n",
        "y_pred = model.predict(x_train)"
      ],
      "execution_count": null,
      "outputs": [
        {
          "output_type": "stream",
          "name": "stderr",
          "text": [
            "/usr/local/lib/python3.7/dist-packages/sklearn/linear_model/_logistic.py:940: ConvergenceWarning: lbfgs failed to converge (status=1):\n",
            "STOP: TOTAL NO. of ITERATIONS REACHED LIMIT.\n",
            "\n",
            "Increase the number of iterations (max_iter) or scale the data as shown in:\n",
            "    https://scikit-learn.org/stable/modules/preprocessing.html\n",
            "Please also refer to the documentation for alternative solver options:\n",
            "    https://scikit-learn.org/stable/modules/linear_model.html#logistic-regression\n",
            "  extra_warning_msg=_LOGISTIC_SOLVER_CONVERGENCE_MSG)\n"
          ]
        }
      ]
    },
    {
      "cell_type": "markdown",
      "metadata": {
        "id": "g56ybH8-G2-3"
      },
      "source": [
        "# Exercise 6 : Train AdaBoost for this problem, and make prediction using test set."
      ]
    },
    {
      "cell_type": "code",
      "metadata": {
        "id": "pDgO-jjrG2-4"
      },
      "source": [
        "####################\n",
        "## Your code here ##\n",
        "####################\n",
        "\n",
        "# 1. Import what model you want.\n",
        "from sklearn.ensemble import AdaBoostClassifier\n",
        "\n",
        "# 2. Declare your model.\n",
        "\n",
        "model = AdaBoostClassifier()\n",
        "\n",
        "# 3. Fit your model.\n",
        "\n",
        "model.fit(x_train, y_train)\n",
        "\n",
        "# 4. predict using your fitted model.\n",
        "y_pred = model.predict(x_train)\n"
      ],
      "execution_count": null,
      "outputs": []
    },
    {
      "cell_type": "markdown",
      "metadata": {
        "id": "rCVA7K27lrHN"
      },
      "source": [
        "# Exercise 7 : Train random forest for this problem, and make prediction using test set."
      ]
    },
    {
      "cell_type": "code",
      "metadata": {
        "id": "YFTpvD3FlrHN"
      },
      "source": [
        "####################\n",
        "## Your code here ##\n",
        "####################\n",
        "\n",
        "# 1. Import what model you want.\n",
        "from sklearn.ensemble import RandomForestRegressor\n",
        "\n",
        "# 2. Declare your model.\n",
        "model = RandomForestRegressor()\n",
        "\n",
        "# 3. Fit your model.\n",
        "model.fit(x_train, y_train)\n",
        "\n",
        "# 4. predict using your fitted model.\n",
        "y_pred = model.predict(x_train)\n"
      ],
      "execution_count": null,
      "outputs": []
    },
    {
      "cell_type": "markdown",
      "metadata": {
        "id": "S2QO9sgKHgB-"
      },
      "source": [
        "# Exercise 8 : Train artificial neural network for this problem, and make prediction using test set.\n",
        "\n",
        "**note**\n",
        "* Just for exercise, we will use Keras ( Highlevel API of Tensorflow 2.x ) for deep learning"
      ]
    },
    {
      "cell_type": "code",
      "metadata": {
        "id": "C6bHkPFTHgB-"
      },
      "source": [
        "####################\n",
        "## Your code here ##\n",
        "####################\n",
        "\n",
        "# 1. Import what model you want.\n",
        "from sklearn.neural_network import MLPClassifier\n",
        "\n",
        "# 2. Declare your model.\n",
        "\n",
        "model = MLPClassifier()\n",
        "\n",
        "# 3. Fit your model.\n",
        "model.fit(x_train, y_train)\n",
        "\n",
        "# 4. predict using your fitted model.\n",
        "y_pred = model.predict(x_train)\n"
      ],
      "execution_count": null,
      "outputs": []
    }
  ]
}